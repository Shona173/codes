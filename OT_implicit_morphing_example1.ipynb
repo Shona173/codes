{
 "cells": [
  {
   "cell_type": "code",
   "execution_count": 217,
   "metadata": {
    "colab": {
     "base_uri": "https://localhost:8080/"
    },
    "id": "QYeoIVSYdBXv",
    "outputId": "fc8ce030-02d1-41bc-a2ed-0141d064389a"
   },
   "outputs": [
    {
     "name": "stdout",
     "output_type": "stream",
     "text": [
      "zsh:1: command not found: pip\n"
     ]
    }
   ],
   "source": [
    "!pip install POT"
   ]
  },
  {
   "cell_type": "code",
   "execution_count": 218,
   "metadata": {
    "id": "vzlW5kl4dN5T"
   },
   "outputs": [],
   "source": [
    "import numpy as np\n",
    "import numpy.random as random\n",
    "\n",
    "import matplotlib.pyplot as plt\n",
    "import ot"
   ]
  },
  {
   "cell_type": "code",
   "execution_count": 219,
   "metadata": {
    "id": "oJ4xgD5ZdiCx"
   },
   "outputs": [],
   "source": [
    "def ndot(a,b):\n",
    "    return a[0]*b[0]-a[1]*b[1]"
   ]
  },
  {
   "cell_type": "code",
   "execution_count": 220,
   "metadata": {
    "id": "CqpfGR3udkWQ"
   },
   "outputs": [],
   "source": [
    "def clamp(value, min_val, max_val):\n",
    "    return np.maximum(min_val, np.minimum(value, max_val))"
   ]
  },
  {
   "cell_type": "code",
   "execution_count": 221,
   "metadata": {
    "id": "MqYPR9j5dXF1"
   },
   "outputs": [],
   "source": [
    "def sdf_triangle(p,r=0.2):\n",
    "    k=np.sqrt(3.0)\n",
    "    p[:, 0] = np.abs(p[:, 0]) - r\n",
    "    p[:, 1] = p[:, 1] + r / k\n",
    "    idx = (p[:,0]+k*p[:,1]>0.0)\n",
    "    p[idx, 0] = (p[idx, 0] - k * p[idx, 1]) / 2.0\n",
    "    p[idx, 1] = (-k * p[idx, 0] - p[idx, 1]) / 2.0\n",
    "    p[:,0]-=clamp(p[:,0],-2.0*r,0.0)\n",
    "    max_p = np.maximum(p, 0.0)\n",
    "    return -np.linalg.norm(p,axis=1)*np.sign(p[:,1])\n",
    "     "
   ]
  },
  {
   "cell_type": "code",
   "execution_count": 222,
   "metadata": {
    "id": "zI2f46tsdcnN"
   },
   "outputs": [],
   "source": [
    "def sdf_pentagon(p,r=0.2):\n",
    "  k=np.array([0.809016994,0.587785252,0.726542528]);\n",
    "  p[:, 0]=np.abs(p[:, 0])\n",
    "  l=np.array([-k[0],k[1]])\n",
    "  m=np.array([k[0],k[1]])\n",
    "  p -= 2.0 * np.minimum(np.dot(p, l), 0.0)[:, np.newaxis] * l\n",
    "  p -= 2.0 * np.minimum(np.dot(p, m), 0.0)[:, np.newaxis] * m\n",
    "  p[:,1]-=r\n",
    "  p[:,0]-=clamp(p[:, 0],-r*k[2],r*k[2])\n",
    "  max_p = np.maximum(p, 0.0)\n",
    "  return np.linalg.norm(p,axis=1)*np.sign(p[:,1])"
   ]
  },
  {
   "cell_type": "code",
   "execution_count": 223,
   "metadata": {
    "id": "qV2V-lgvd117"
   },
   "outputs": [],
   "source": [
    "def gen_grid(resolution, low=-1.0, high=1.0):\n",
    "    idx = np.linspace(low, high, num=resolution)\n",
    "    x, y = np.meshgrid(idx, idx)\n",
    "    V = np.concatenate((x.reshape((-1,1)), y.reshape((-1,1))), 1)\n",
    "\n",
    "    return V"
   ]
  },
  {
   "cell_type": "code",
   "execution_count": 224,
   "metadata": {
    "id": "MnBvm6abd5IG"
   },
   "outputs": [],
   "source": [
    "def sample_and_normalize(f, grid, grid_size):\n",
    "    '''\n",
    "    Sample f on the grid and normalize it.\n",
    "    Assume f>0 outside and <0 inside.\n",
    "    '''\n",
    "    print(grid.shape)\n",
    "    fv = f(grid)\n",
    "    print(fv.shape)\n",
    "\n",
    "    # >0 inside\n",
    "    fv = -fv\n",
    "\n",
    "    # f is the characteristic function for {f>0}\n",
    "    fv[fv>=0.0] = 1.0\n",
    "    fv[fv<0.0] = 0.0\n",
    "\n",
    "    total_sum = np.sum(fv)\n",
    "    if total_sum > 0:\n",
    "        fv = fv / total_sum\n",
    "    else:\n",
    "        raise ValueError(\"The sum of the function values is zero; normalization is not possible.\")\n",
    "\n",
    "    # reshape to have the same shape as grid\n",
    "    fv = fv.reshape(grid_size, grid_size)\n",
    "\n",
    "    return fv"
   ]
  },
  {
   "cell_type": "code",
   "execution_count": 225,
   "metadata": {
    "colab": {
     "base_uri": "https://localhost:8080/",
     "height": 370
    },
    "id": "Y3wnwPagd8RM",
    "outputId": "7e1f5d0c-b348-4033-afff-94a130474b3c"
   },
   "outputs": [
    {
     "name": "stdout",
     "output_type": "stream",
     "text": [
      "(1024, 2)\n",
      "(1024,)\n",
      "(1024, 2)\n",
      "(1024,)\n"
     ]
    }
   ],
   "source": [
    "grid_size = 32\n",
    "grid = gen_grid(grid_size,-2.0,2.0)\n",
    "\n",
    "# f1 and f2 are prob. distribution corresponding to f1 and f2\n",
    "f1 = sample_and_normalize(sdf_triangle, grid, grid_size)\n",
    "f2 = sample_and_normalize(sdf_pentagon, grid, grid_size)\n",
    "\n",
    "A = np.array([f1,f2])"
   ]
  },
  {
   "cell_type": "code",
   "execution_count": 226,
   "metadata": {
    "id": "uPvvOO_ket9b"
   },
   "outputs": [
    {
     "data": {
      "image/png": "[encoded data removed]",
      "text/plain": [
       "<Figure size 700x700 with 5 Axes>"
      ]
     },
     "metadata": {},
     "output_type": "display_data"
    }
   ],
   "source": [
    "nb_images = 5\n",
    "reg = 0.004\n",
    "\n",
    "v1 = np.array((1, 0))\n",
    "v2 = np.array((0, 1))\n",
    "\n",
    "fig, axes = plt.subplots(1, nb_images, figsize=(7, 7))\n",
    "plt.suptitle(\"Convolutional Wasserstein Barycenters in POT\")\n",
    "cm = \"Blues\"\n",
    "\n",
    "for i in range(nb_images):\n",
    "    tx = float(i) / (nb_images - 1)\n",
    "\n",
    "    weights = (1 - tx) * v1 + tx * v2\n",
    "\n",
    "    if i == 0:\n",
    "        axes[i].imshow(f1, cmap=cm)\n",
    "    elif i == (nb_images - 1):\n",
    "        axes[i].imshow(f2, cmap=cm)\n",
    "    else:\n",
    "        # call to barycenter computation\n",
    "        axes[i].imshow(\n",
    "            ot.bregman.convolutional_barycenter2d(A, reg, weights), cmap=cm\n",
    "        )\n",
    "    axes[i].axis(\"off\")\n",
    "\n",
    "plt.tight_layout()\n",
    "plt.show()"
   ]
  }
 ],
 "metadata": {
  "colab": {
   "provenance": []
  },
  "kernelspec": {
   "display_name": "Python 3 (ipykernel)",
   "language": "python",
   "name": "python3"
  },
  "language_info": {
   "codemirror_mode": {
    "name": "ipython",
    "version": 3
   },
   "file_extension": ".py",
   "mimetype": "text/x-python",
   "name": "python",
   "nbconvert_exporter": "python",
   "pygments_lexer": "ipython3",
   "version": "3.13.0"
  }
 },
 "nbformat": 4,
 "nbformat_minor": 4
}
