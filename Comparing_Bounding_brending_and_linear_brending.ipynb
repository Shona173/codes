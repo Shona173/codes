{
  "cells": [
    {
      "cell_type": "code",
      "execution_count": 33,
      "metadata": {
        "colab": {
          "base_uri": "https://localhost:8080/"
        },
        "id": "dTdRA9CjMUv-",
        "outputId": "1e7004cd-6d9d-46a4-c7d1-9742cf491a4e"
      },
      "outputs": [
        {
          "output_type": "stream",
          "name": "stdout",
          "text": [
            "Requirement already satisfied: POT in /usr/local/lib/python3.11/dist-packages (0.9.5)\n",
            "Requirement already satisfied: numpy>=1.16 in /usr/local/lib/python3.11/dist-packages (from POT) (1.26.4)\n",
            "Requirement already satisfied: scipy>=1.6 in /usr/local/lib/python3.11/dist-packages (from POT) (1.13.1)\n",
            "Requirement already satisfied: ffmpeg-python in /usr/local/lib/python3.11/dist-packages (0.2.0)\n",
            "Requirement already satisfied: future in /usr/local/lib/python3.11/dist-packages (from ffmpeg-python) (1.0.0)\n"
          ]
        }
      ],
      "source": [
        "!pip install POT\n",
        "!pip install ffmpeg-python"
      ]
    },
    {
      "cell_type": "code",
      "execution_count": 2,
      "metadata": {
        "id": "rlvF9LKlMvT7"
      },
      "outputs": [],
      "source": [
        "import numpy as np\n",
        "import numpy.random as random\n",
        "\n",
        "import matplotlib.pyplot as plt\n",
        "import matplotlib.animation as animation\n",
        "import ot"
      ]
    },
    {
      "cell_type": "code",
      "execution_count": 3,
      "metadata": {
        "id": "2X4yh-h2M0im"
      },
      "outputs": [],
      "source": [
        "def clamp(value, min_val, max_val):\n",
        "    return np.maximum(min_val, np.minimum(value, max_val))"
      ]
    },
    {
      "cell_type": "code",
      "execution_count": 4,
      "metadata": {
        "id": "KJVX4NxuN6s7"
      },
      "outputs": [],
      "source": [
        "def sdf_box(p, b=[0.7,0.7]):\n",
        "    p = p.copy()\n",
        "    d = np.abs(x)-b\n",
        "    max_d = np.maximum(d, 0.0)\n",
        "    length_d = np.sqrt(np.sum(max_d**2, 1))\n",
        "    return length_d + np.minimum(np.maximum(d[:,0], d[:,1]), 0.0)"
      ]
    },
    {
      "cell_type": "code",
      "execution_count": 5,
      "metadata": {
        "id": "hhJT680POCEV"
      },
      "outputs": [],
      "source": [
        "def sdf_pentagon(p,r=0.5):\n",
        "    p = p.copy()\n",
        "    k = np.array([0.809016994,0.587785252,0.726542528]);\n",
        "    p[:,0] = np.abs(p[:,0])\n",
        "    p[:,1] = -p[:,1]\n",
        "    l = np.array([-k[0],k[1]])\n",
        "    m = np.array([k[0],k[1]])\n",
        "    q = 2.0 * np.minimum(np.dot(p, l), 0.0)\n",
        "    p[:,0] -= q * l[0]\n",
        "    p[:,1] -= q * l[1]\n",
        "    q = 2.0 * np.minimum(np.dot(p, m), 0.0)\n",
        "    p[:,0] -= q * m[0]\n",
        "    p[:,1] -= q * m[1]\n",
        "    p[:,0]-=clamp(p[:, 0],-r*k[2],r*k[2])\n",
        "    p[:,1]-=r\n",
        "    return np.linalg.norm(p,axis=1)*np.sign(p[:,1])"
      ]
    },
    {
      "cell_type": "code",
      "execution_count": 6,
      "metadata": {
        "id": "ONB3p6aGgYub"
      },
      "outputs": [],
      "source": [
        "def translate(x_in, v_t):\n",
        "    x_out = x_in - v_t\n",
        "    return x_out"
      ]
    },
    {
      "cell_type": "code",
      "execution_count": 7,
      "metadata": {
        "id": "V78JK4OUgYuc"
      },
      "outputs": [],
      "source": [
        "def sdf_small_translated_box(x):\n",
        "    v = np.array([0.5,0.5])\n",
        "    x_out = translate(x, v)\n",
        "    return sdf_box(x_out, b=[0.5,0.5])"
      ]
    },
    {
      "cell_type": "code",
      "execution_count": 8,
      "metadata": {
        "id": "ebzG0AQIgYud"
      },
      "outputs": [],
      "source": [
        "def sdf_translated_pentagon(x):\n",
        "    v = np.array([-1.0,-1.0])\n",
        "    x_out = translate(x, v)\n",
        "    return sdf_pentagon(x_out,r=0.5)"
      ]
    },
    {
      "cell_type": "code",
      "execution_count": 9,
      "metadata": {
        "id": "c1VX6CfvOEPi"
      },
      "outputs": [],
      "source": [
        "def gen_grid(resolution, low=-1.0, high=1.0):\n",
        "    idx = np.linspace(low, high, num=resolution)\n",
        "    x, y = np.meshgrid(idx, idx)\n",
        "    V = np.concatenate((x.reshape((-1,1)), y.reshape((-1,1))), 1)\n",
        "\n",
        "    return V"
      ]
    },
    {
      "cell_type": "code",
      "execution_count": 10,
      "metadata": {
        "id": "o6A_zd_7gYuf"
      },
      "outputs": [],
      "source": [
        "def r_union(f1, f2):\n",
        "    return f1 + f2 + np.sqrt(f1**2 + f2**2)"
      ]
    },
    {
      "cell_type": "code",
      "execution_count": 11,
      "metadata": {
        "id": "ZxtnugaWgYug"
      },
      "outputs": [],
      "source": [
        "def r_intersection(f1, f2):\n",
        "    return f1 + f2 - np.sqrt(f1**2 + f2**2)"
      ]
    },
    {
      "cell_type": "code",
      "execution_count": 12,
      "metadata": {
        "id": "BBasAvk_tpdw"
      },
      "outputs": [],
      "source": [
        "def space_time_blending(f1, f2, t, x, a0=1.0, a1=1.0, a2=1.0):\n",
        "    f1x = f1(x)\n",
        "    f2x = f2(x)\n",
        "\n",
        "    #f1x_cyl = np.minimum(f1x, -t) # needs R-functions to work properly\n",
        "    f1x_cyl = r_intersection(f1x, -t)\n",
        "    #f2x_cyl = np.minimum(f2x, (t-1)) # needs R-functions to work properly\n",
        "    f2x_cyl = r_intersection(f2x, (t-1))\n",
        "\n",
        "    disp = a0 / (1.0 + (f1x_cyl/a1)**2 + (f2x_cyl/a2)**2)\n",
        "    r_uni = r_union(f1x_cyl, f2x_cyl)\n",
        "\n",
        "    return r_uni + disp"
      ]
    },
    {
      "cell_type": "code",
      "execution_count": 13,
      "metadata": {
        "id": "B1XJ_1tNvY7x"
      },
      "outputs": [],
      "source": [
        "def linear_morphing(f1, f2, t, x):\n",
        "    return (1-t)*f1(x) + t*f2(x)"
      ]
    },
    {
      "cell_type": "code",
      "execution_count": 14,
      "metadata": {
        "id": "FZVkLGOuOJ72"
      },
      "outputs": [],
      "source": [
        "def sample_and_normalize(f, grid, grid_size):\n",
        "    '''\n",
        "    Sample f on the grid and normalize it.\n",
        "    Assume f>0 outside and <0 inside.\n",
        "    '''\n",
        "    print(grid.shape)\n",
        "    fv = f(grid)\n",
        "    print(fv.shape)\n",
        "\n",
        "    # >0 inside\n",
        "    fv = -fv\n",
        "\n",
        "    # f is the characteristic function for {f>0}\n",
        "    fv[fv>=0.0] = 1.0\n",
        "    fv[fv<0.0] = 0.0\n",
        "\n",
        "    total_sum = np.sum(fv)\n",
        "    if total_sum > 0:\n",
        "        fv = fv / total_sum\n",
        "    else:\n",
        "        raise ValueError(\"The sum of the function values is zero; normalization is not possible.\")\n",
        "\n",
        "    # reshape to have the same shape as grid\n",
        "    fv = fv.reshape(grid_size, grid_size)\n",
        "\n",
        "    return fv"
      ]
    },
    {
      "cell_type": "code",
      "execution_count": 34,
      "metadata": {
        "colab": {
          "base_uri": "https://localhost:8080/",
          "height": 406
        },
        "id": "MB3bUN8uOdXA",
        "outputId": "4b9ab0c2-c5f2-46b7-a940-dc09055f1f5b"
      },
      "outputs": [
        {
          "output_type": "display_data",
          "data": {
            "text/plain": [
              "<Figure size 640x480 with 1 Axes>"
            ],
            "image/png": "[encoded data removed]"
          },
          "metadata": {}
        }
      ],
      "source": [
        "grid_size = 64\n",
        "\n",
        "fig = plt.figure()\n",
        "x = gen_grid(grid_size,-2.0,2.0)\n",
        "\n",
        "def animate(t):\n",
        "    plt.cla()\n",
        "    out = linear_morphing(sdf_box, sdf_pentagon ,np.array([t]), x)\n",
        "    #levels = np.linspace(-1.0, 1.0, 21)\n",
        "    #im = plt.contourf(out.reshape(grid_size, grid_size), levels = levels)\n",
        "    im = plt.contour(out.reshape(grid_size, grid_size), levels = [0.0])\n",
        "    plt.axis('equal')\n",
        "    plt.axis(\"off\")\n",
        "    return im\n",
        "\n",
        "anim = animation.FuncAnimation(fig, animate, frames=np.linspace(0, 1, 50), interval=50)\n",
        "anim.save(\"linear_morphing.mp4\", fps=20, writer=\"ffmpeg\")"
      ]
    },
    {
      "cell_type": "code",
      "execution_count": 16,
      "metadata": {
        "id": "Ie5RLCGYgYuj",
        "outputId": "1c6bf869-23c9-485b-b25d-dcb1422ae38e",
        "colab": {
          "base_uri": "https://localhost:8080/",
          "height": 406
        }
      },
      "outputs": [
        {
          "output_type": "display_data",
          "data": {
            "text/plain": [
              "<Figure size 640x480 with 1 Axes>"
            ],
            "image/png": "[encoded data removed]"
          },
          "metadata": {}
        }
      ],
      "source": [
        "grid_size = 64\n",
        "\n",
        "fig = plt.figure()\n",
        "x = gen_grid(grid_size, low=-2.0, high=2.0)\n",
        "\n",
        "def animate(t):\n",
        "    plt.cla()\n",
        "    out = space_time_blending(sdf_translated_pentagon, sdf_small_translated_box ,np.array([t]), x, a0=1.0, a1=1.0, a2=1.0)\n",
        "    im = plt.contour(out.reshape(grid_size, grid_size), levels = [0.0])\n",
        "    plt.axis('equal')\n",
        "    plt.axis(\"off\")\n",
        "    return im\n",
        "\n",
        "anim = animation.FuncAnimation(fig, animate, frames=np.linspace(0, 1, 50), interval=50)\n",
        "anim.save(\"stb_morphing_translated.mp4\")"
      ]
    },
    {
      "cell_type": "code",
      "source": [
        "x = gen_grid(grid_size, low=-2.0, high=2.0)\n",
        "out=sdf_small_translated_box(x)\n",
        "plt.contour(out.reshape(grid_size, grid_size), levels = [0.0])"
      ],
      "metadata": {
        "id": "7q8qp9RZilZa",
        "outputId": "acbd2377-e2aa-4d61-9174-0a40f963c073",
        "colab": {
          "base_uri": "https://localhost:8080/",
          "height": 448
        }
      },
      "execution_count": 29,
      "outputs": [
        {
          "output_type": "execute_result",
          "data": {
            "text/plain": [
              "<matplotlib.contour.QuadContourSet at 0x79e988ebac50>"
            ]
          },
          "metadata": {},
          "execution_count": 29
        },
        {
          "output_type": "display_data",
          "data": {
            "text/plain": [
              "<Figure size 640x480 with 1 Axes>"
            ],
            "image/png": "[encoded data removed]"
          },
          "metadata": {}
        }
      ]
    }
  ],
  "metadata": {
    "colab": {
      "provenance": []
    },
    "kernelspec": {
      "display_name": "Python 3 (ipykernel)",
      "language": "python",
      "name": "python3"
    },
    "language_info": {
      "codemirror_mode": {
        "name": "ipython",
        "version": 3
      },
      "file_extension": ".py",
      "mimetype": "text/x-python",
      "name": "python",
      "nbconvert_exporter": "python",
      "pygments_lexer": "ipython3",
      "version": "3.13.0"
    }
  },
  "nbformat": 4,
  "nbformat_minor": 0
}