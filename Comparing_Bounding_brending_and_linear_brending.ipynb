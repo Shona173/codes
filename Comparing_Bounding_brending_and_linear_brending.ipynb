{
  "nbformat": 4,
  "nbformat_minor": 0,
  "metadata": {
    "colab": {
      "provenance": []
    },
    "kernelspec": {
      "name": "python3",
      "display_name": "Python 3"
    },
    "language_info": {
      "name": "python"
    }
  },
  "cells": [
    {
      "cell_type": "code",
      "execution_count": 1,
      "metadata": {
        "colab": {
          "base_uri": "https://localhost:8080/"
        },
        "id": "dTdRA9CjMUv-",
        "outputId": "cdcd3347-580a-4977-d366-5f281d2a5002"
      },
      "outputs": [
        {
          "output_type": "stream",
          "name": "stdout",
          "text": [
            "Collecting POT\n",
            "  Downloading POT-0.9.5-cp310-cp310-manylinux_2_17_x86_64.manylinux2014_x86_64.whl.metadata (34 kB)\n",
            "Requirement already satisfied: numpy>=1.16 in /usr/local/lib/python3.10/dist-packages (from POT) (1.26.4)\n",
            "Requirement already satisfied: scipy>=1.6 in /usr/local/lib/python3.10/dist-packages (from POT) (1.13.1)\n",
            "Downloading POT-0.9.5-cp310-cp310-manylinux_2_17_x86_64.manylinux2014_x86_64.whl (865 kB)\n",
            "\u001b[2K   \u001b[90m━━━━━━━━━━━━━━━━━━━━━━━━━━━━━━━━━━━━━━━━\u001b[0m \u001b[32m865.6/865.6 kB\u001b[0m \u001b[31m8.6 MB/s\u001b[0m eta \u001b[36m0:00:00\u001b[0m\n",
            "\u001b[?25hInstalling collected packages: POT\n",
            "Successfully installed POT-0.9.5\n"
          ]
        }
      ],
      "source": [
        "!pip install POT"
      ]
    },
    {
      "cell_type": "code",
      "source": [
        "import numpy as np\n",
        "import numpy.random as random\n",
        "\n",
        "import matplotlib.pyplot as plt\n",
        "import matplotlib.animation as animation\n",
        "import ot"
      ],
      "metadata": {
        "id": "rlvF9LKlMvT7"
      },
      "execution_count": 12,
      "outputs": []
    },
    {
      "cell_type": "code",
      "source": [
        "def clamp(value, min_val, max_val):\n",
        "    return np.maximum(min_val, np.minimum(value, max_val))"
      ],
      "metadata": {
        "id": "2X4yh-h2M0im"
      },
      "execution_count": 3,
      "outputs": []
    },
    {
      "cell_type": "code",
      "source": [
        "def sdf_box(x, b=[0.7,0.7]):\n",
        "    d = np.abs(x)-b\n",
        "    max_d = np.maximum(d, 0.0)\n",
        "    length_d = np.sqrt(np.sum(max_d**2, 1))\n",
        "    return length_d + np.minimum(np.maximum(d[:,0], d[:,1]), 0.0)"
      ],
      "metadata": {
        "id": "KJVX4NxuN6s7"
      },
      "execution_count": 4,
      "outputs": []
    },
    {
      "cell_type": "code",
      "source": [
        "def sdf_pentagon(p,r=0.7):\n",
        "  k=np.array([0.809016994,0.587785252,0.726542528]);\n",
        "  p[:, 0]=np.abs(p[:, 0])\n",
        "  l=np.array([-k[0],k[1]])\n",
        "  m=np.array([k[0],k[1]])\n",
        "  p -= 2.0 * np.minimum(np.dot(p, l), 0.0)[:, np.newaxis] * l\n",
        "  p -= 2.0 * np.minimum(np.dot(p, m), 0.0)[:, np.newaxis] * m\n",
        "  p[:,1]-=r\n",
        "  p[:,0]-=clamp(p[:, 0],-r*k[2],r*k[2])\n",
        "  max_p = np.maximum(p, 0.0)\n",
        "  return np.linalg.norm(p,axis=1)*np.sign(p[:,1])"
      ],
      "metadata": {
        "id": "hhJT680POCEV"
      },
      "execution_count": 5,
      "outputs": []
    },
    {
      "cell_type": "code",
      "source": [
        "def gen_grid(resolution, low=-1.0, high=1.0):\n",
        "    idx = np.linspace(low, high, num=resolution)\n",
        "    x, y = np.meshgrid(idx, idx)\n",
        "    V = np.concatenate((x.reshape((-1,1)), y.reshape((-1,1))), 1)\n",
        "\n",
        "    return V"
      ],
      "metadata": {
        "id": "c1VX6CfvOEPi"
      },
      "execution_count": 6,
      "outputs": []
    },
    {
      "cell_type": "code",
      "source": [
        "def space_time_blending(f1, f2, t, x, a0=1.0, a1=1.0, a2=1.0):\n",
        "    f1x = f1(x)\n",
        "    f2x = f2(x)\n",
        "\n",
        "    #f1x_cyl = np.minimum(f1x, -t) # needs R-functions to work properly\n",
        "    f1x_cyl = r_intersection(f1x, -t)\n",
        "    #f2x_cyl = np.minimum(f2x, (t-1)) # needs R-functions to work properly\n",
        "    f2x_cyl = r_intersection(f2x, (t-1))\n",
        "\n",
        "    disp = a0 / (1.0 + (f1x_cyl/a1)**2 + (f2x_cyl/a2)**2)\n",
        "    r_uni = r_union(f1x_cyl, f2x_cyl)\n",
        "\n",
        "    return r_uni + disp"
      ],
      "metadata": {
        "id": "BBasAvk_tpdw"
      },
      "execution_count": 11,
      "outputs": []
    },
    {
      "cell_type": "code",
      "source": [
        "def linear_morphing(f1, f2, t, x):\n",
        "    return (1-t)*f1(x) + t*f2(x)"
      ],
      "metadata": {
        "id": "B1XJ_1tNvY7x"
      },
      "execution_count": 17,
      "outputs": []
    },
    {
      "cell_type": "code",
      "source": [
        "def sample_and_normalize(f, grid, grid_size):\n",
        "    '''\n",
        "    Sample f on the grid and normalize it.\n",
        "    Assume f>0 outside and <0 inside.\n",
        "    '''\n",
        "    print(grid.shape)\n",
        "    fv = f(grid)\n",
        "    print(fv.shape)\n",
        "\n",
        "    # >0 inside\n",
        "    fv = -fv\n",
        "\n",
        "    # f is the characteristic function for {f>0}\n",
        "    fv[fv>=0.0] = 1.0\n",
        "    fv[fv<0.0] = 0.0\n",
        "\n",
        "    total_sum = np.sum(fv)\n",
        "    if total_sum > 0:\n",
        "        fv = fv / total_sum\n",
        "    else:\n",
        "        raise ValueError(\"The sum of the function values is zero; normalization is not possible.\")\n",
        "\n",
        "    # reshape to have the same shape as grid\n",
        "    fv = fv.reshape(grid_size, grid_size)\n",
        "\n",
        "    return fv"
      ],
      "metadata": {
        "id": "FZVkLGOuOJ72"
      },
      "execution_count": 7,
      "outputs": []
    },
    {
      "cell_type": "code",
      "source": [
        "grid_size = 64\n",
        "\n",
        "fig = plt.figure()\n",
        "x = gen_grid(grid_size,-2.0,2.0)\n",
        "\n",
        "def animate(t):\n",
        "    plt.cla()\n",
        "    out = linear_morphing(sdf_box, sdf_pentagon ,np.array([t]), x)\n",
        "    #levels = np.linspace(-1.0, 1.0, 21)\n",
        "    #im = plt.contourf(out.reshape(grid_size, grid_size), levels = levels)\n",
        "    im = plt.contour(out.reshape(grid_size, grid_size), levels = [0.0])\n",
        "    plt.axis('equal')\n",
        "    plt.axis(\"off\")\n",
        "    return im\n",
        "\n",
        "anim = animation.FuncAnimation(fig, animate, frames=np.linspace(0, 1, 50), interval=50)\n",
        "anim.save(\"linear_morphing.mp4\")"
      ],
      "metadata": {
        "colab": {
          "base_uri": "https://localhost:8080/",
          "height": 406
        },
        "id": "MB3bUN8uOdXA",
        "outputId": "9a4ce662-5ca5-46e8-dd6c-19feacc6f384"
      },
      "execution_count": 19,
      "outputs": [
        {
          "output_type": "display_data",
          "data": {
            "text/plain": [
              "<Figure size 640x480 with 1 Axes>"
            ],
            "image/png": "[encoded data removed]"
          },
          "metadata": {}
        }
      ]
    }
  ]
}