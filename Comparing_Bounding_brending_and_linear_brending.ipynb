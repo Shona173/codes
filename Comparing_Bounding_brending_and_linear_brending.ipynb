{
  "cells": [
    {
      "cell_type": "code",
      "execution_count": 1,
      "metadata": {
        "colab": {
          "base_uri": "https://localhost:8080/"
        },
        "id": "dTdRA9CjMUv-",
        "outputId": "bdbba41e-a6b9-45c1-f66b-168c1b4cfdf3"
      },
      "outputs": [
        {
          "output_type": "stream",
          "name": "stdout",
          "text": [
            "Collecting POT\n",
            "  Downloading POT-0.9.5-cp311-cp311-manylinux_2_17_x86_64.manylinux2014_x86_64.whl.metadata (34 kB)\n",
            "Requirement already satisfied: numpy>=1.16 in /usr/local/lib/python3.11/dist-packages (from POT) (1.26.4)\n",
            "Requirement already satisfied: scipy>=1.6 in /usr/local/lib/python3.11/dist-packages (from POT) (1.13.1)\n",
            "Downloading POT-0.9.5-cp311-cp311-manylinux_2_17_x86_64.manylinux2014_x86_64.whl (897 kB)\n",
            "\u001b[2K   \u001b[90m━━━━━━━━━━━━━━━━━━━━━━━━━━━━━━━━━━━━━━━━\u001b[0m \u001b[32m897.5/897.5 kB\u001b[0m \u001b[31m22.1 MB/s\u001b[0m eta \u001b[36m0:00:00\u001b[0m\n",
            "\u001b[?25hInstalling collected packages: POT\n",
            "Successfully installed POT-0.9.5\n",
            "Collecting ffmpeg-python\n",
            "  Downloading ffmpeg_python-0.2.0-py3-none-any.whl.metadata (1.7 kB)\n",
            "Requirement already satisfied: future in /usr/local/lib/python3.11/dist-packages (from ffmpeg-python) (1.0.0)\n",
            "Downloading ffmpeg_python-0.2.0-py3-none-any.whl (25 kB)\n",
            "Installing collected packages: ffmpeg-python\n",
            "Successfully installed ffmpeg-python-0.2.0\n"
          ]
        }
      ],
      "source": [
        "!pip install POT\n",
        "!pip install ffmpeg-python"
      ]
    },
    {
      "cell_type": "code",
      "execution_count": 23,
      "metadata": {
        "id": "rlvF9LKlMvT7"
      },
      "outputs": [],
      "source": [
        "import numpy as np\n",
        "import numpy.random as random\n",
        "\n",
        "import matplotlib.pyplot as plt\n",
        "import matplotlib.animation as animation\n",
        "from google.colab import files\n",
        "from matplotlib import animation\n",
        "from IPython.display import HTML\n",
        "import ot\n",
        "import time"
      ]
    },
    {
      "cell_type": "code",
      "execution_count": 3,
      "metadata": {
        "id": "2X4yh-h2M0im"
      },
      "outputs": [],
      "source": [
        "def clamp(value, min_val, max_val):\n",
        "    return np.maximum(min_val, np.minimum(value, max_val))"
      ]
    },
    {
      "cell_type": "code",
      "execution_count": 4,
      "metadata": {
        "id": "KJVX4NxuN6s7"
      },
      "outputs": [],
      "source": [
        "def sdf_box(p, b=[0.7,0.7]):\n",
        "    p = p.copy()\n",
        "    d = np.abs(x)-b\n",
        "    max_d = np.maximum(d, 0.0)\n",
        "    length_d = np.sqrt(np.sum(max_d**2, 1))\n",
        "    return length_d + np.minimum(np.maximum(d[:,0], d[:,1]), 0.0)"
      ]
    },
    {
      "cell_type": "code",
      "execution_count": 5,
      "metadata": {
        "id": "hhJT680POCEV"
      },
      "outputs": [],
      "source": [
        "def sdf_pentagon(p,r=0.7):\n",
        "    p = p.copy()\n",
        "    k = np.array([0.809016994,0.587785252,0.726542528]);\n",
        "    p[:,0] = np.abs(p[:,0])\n",
        "    p[:,1] = -p[:,1]\n",
        "    l = np.array([-k[0],k[1]])\n",
        "    m = np.array([k[0],k[1]])\n",
        "    q = 2.0 * np.minimum(np.dot(p, l), 0.0)\n",
        "    p[:,0] -= q * l[0]\n",
        "    p[:,1] -= q * l[1]\n",
        "    q = 2.0 * np.minimum(np.dot(p, m), 0.0)\n",
        "    p[:,0] -= q * m[0]\n",
        "    p[:,1] -= q * m[1]\n",
        "    p[:,0]-=clamp(p[:, 0],-r*k[2],r*k[2])\n",
        "    p[:,1]-=r\n",
        "    return np.linalg.norm(p,axis=1)*np.sign(p[:,1])"
      ]
    },
    {
      "cell_type": "code",
      "execution_count": 6,
      "metadata": {
        "id": "ONB3p6aGgYub"
      },
      "outputs": [],
      "source": [
        "def translate(x_in, v_t):\n",
        "    x_out = x_in - v_t\n",
        "    return x_out"
      ]
    },
    {
      "cell_type": "code",
      "execution_count": 7,
      "metadata": {
        "id": "V78JK4OUgYuc"
      },
      "outputs": [],
      "source": [
        "def sdf_small_translated_box(x):\n",
        "    v = np.array([0.5,0.5])\n",
        "    x_out = translate(x, v)\n",
        "    return sdf_box(x_out, b=[0.5,0.5])"
      ]
    },
    {
      "cell_type": "code",
      "execution_count": 8,
      "metadata": {
        "id": "ebzG0AQIgYud"
      },
      "outputs": [],
      "source": [
        "def sdf_small_translated_pentagon(x):\n",
        "    v = np.array([-1.0,-1.0])\n",
        "    x_out = translate(x, v)\n",
        "    return sdf_pentagon(x_out,r=0.5)"
      ]
    },
    {
      "cell_type": "code",
      "execution_count": 9,
      "metadata": {
        "id": "c1VX6CfvOEPi"
      },
      "outputs": [],
      "source": [
        "def gen_grid(resolution, low=-1.0, high=1.0):\n",
        "    idx = np.linspace(low, high, num=resolution)\n",
        "    x, y = np.meshgrid(idx, idx)\n",
        "    V = np.concatenate((x.reshape((-1,1)), y.reshape((-1,1))), 1)\n",
        "\n",
        "    return V"
      ]
    },
    {
      "cell_type": "code",
      "execution_count": 10,
      "metadata": {
        "id": "o6A_zd_7gYuf"
      },
      "outputs": [],
      "source": [
        "def r_union(f1, f2):\n",
        "    return f1 + f2 + np.sqrt(f1**2 + f2**2)"
      ]
    },
    {
      "cell_type": "code",
      "execution_count": 11,
      "metadata": {
        "id": "ZxtnugaWgYug"
      },
      "outputs": [],
      "source": [
        "def r_intersection(f1, f2):\n",
        "    return f1 + f2 - np.sqrt(f1**2 + f2**2)"
      ]
    },
    {
      "cell_type": "code",
      "source": [
        "def linear_morphing(f1, f2, t, x):\n",
        "    return (1-t)*f1(x) + t*f2(x)"
      ],
      "metadata": {
        "id": "A1149whsgrtu"
      },
      "execution_count": 12,
      "outputs": []
    },
    {
      "cell_type": "code",
      "execution_count": 13,
      "metadata": {
        "id": "BBasAvk_tpdw"
      },
      "outputs": [],
      "source": [
        "def space_time_blending(f1, f2, t, x, a0=1.0, a1=1.0, a2=1.0):\n",
        "    f1x = f1(x)\n",
        "    f2x = f2(x)\n",
        "\n",
        "    #f1x_cyl = np.minimum(f1x, -t) # needs R-functions to work properly\n",
        "    f1x_cyl = r_intersection(f1x, -t)\n",
        "    #f2x_cyl = np.minimum(f2x, (t-1)) # needs R-functions to work properly\n",
        "    f2x_cyl = r_intersection(f2x, (t-1))\n",
        "\n",
        "    disp = a0 / (1.0 + (f1x_cyl/a1)**2 + (f2x_cyl/a2)**2)\n",
        "    r_uni = r_union(f1x_cyl, f2x_cyl)\n",
        "\n",
        "    return r_uni + disp"
      ]
    },
    {
      "cell_type": "code",
      "source": [
        "def bounded_blending(f1, f2, t, x, a0=1.0, a1=1.0, a2=1.0):\n",
        " f1x=f1(x)\n",
        " f2x=f2(x)\n",
        " blend = a0 * (1 - t)**2 + a1 * (1 - t) * t + a2 * t**2\n",
        " return (1 - blend) * f1x + blend * f2x"
      ],
      "metadata": {
        "id": "iV-6rYDbUtAt"
      },
      "execution_count": 44,
      "outputs": []
    },
    {
      "cell_type": "code",
      "execution_count": 15,
      "metadata": {
        "id": "FZVkLGOuOJ72"
      },
      "outputs": [],
      "source": [
        "def sample_and_normalize(f, grid, grid_size):\n",
        "    '''\n",
        "    Sample f on the grid and normalize it.\n",
        "    Assume f>0 outside and <0 inside.\n",
        "    '''\n",
        "    print(grid.shape)\n",
        "    fv = f(grid)\n",
        "    print(fv.shape)\n",
        "\n",
        "    # >0 inside\n",
        "    fv = -fv\n",
        "\n",
        "    # f is the characteristic function for {f>0}\n",
        "    fv[fv>=0.0] = 1.0\n",
        "    fv[fv<0.0] = 0.0\n",
        "\n",
        "    total_sum = np.sum(fv)\n",
        "    if total_sum > 0:\n",
        "        fv = fv / total_sum\n",
        "    else:\n",
        "        raise ValueError(\"The sum of the function values is zero; normalization is not possible.\")\n",
        "\n",
        "    # reshape to have the same shape as grid\n",
        "    fv = fv.reshape(grid_size, grid_size)\n",
        "\n",
        "    return fv"
      ]
    },
    {
      "cell_type": "code",
      "execution_count": 35,
      "metadata": {
        "colab": {
          "base_uri": "https://localhost:8080/",
          "height": 424
        },
        "id": "MB3bUN8uOdXA",
        "outputId": "3772b1bd-fa0b-4c8f-8ea7-f889b56fe3a1"
      },
      "outputs": [
        {
          "output_type": "display_data",
          "data": {
            "text/plain": [
              "<IPython.core.display.Javascript object>"
            ],
            "application/javascript": [
              "\n",
              "    async function download(id, filename, size) {\n",
              "      if (!google.colab.kernel.accessAllowed) {\n",
              "        return;\n",
              "      }\n",
              "      const div = document.createElement('div');\n",
              "      const label = document.createElement('label');\n",
              "      label.textContent = `Downloading \"${filename}\": `;\n",
              "      div.appendChild(label);\n",
              "      const progress = document.createElement('progress');\n",
              "      progress.max = size;\n",
              "      div.appendChild(progress);\n",
              "      document.body.appendChild(div);\n",
              "\n",
              "      const buffers = [];\n",
              "      let downloaded = 0;\n",
              "\n",
              "      const channel = await google.colab.kernel.comms.open(id);\n",
              "      // Send a message to notify the kernel that we're ready.\n",
              "      channel.send({})\n",
              "\n",
              "      for await (const message of channel.messages) {\n",
              "        // Send a message to notify the kernel that we're ready.\n",
              "        channel.send({})\n",
              "        if (message.buffers) {\n",
              "          for (const buffer of message.buffers) {\n",
              "            buffers.push(buffer);\n",
              "            downloaded += buffer.byteLength;\n",
              "            progress.value = downloaded;\n",
              "          }\n",
              "        }\n",
              "      }\n",
              "      const blob = new Blob(buffers, {type: 'application/binary'});\n",
              "      const a = document.createElement('a');\n",
              "      a.href = window.URL.createObjectURL(blob);\n",
              "      a.download = filename;\n",
              "      div.appendChild(a);\n",
              "      a.click();\n",
              "      div.remove();\n",
              "    }\n",
              "  "
            ]
          },
          "metadata": {}
        },
        {
          "output_type": "display_data",
          "data": {
            "text/plain": [
              "<IPython.core.display.Javascript object>"
            ],
            "application/javascript": [
              "download(\"download_0ba30a69-6ea7-4553-9dd8-f750802f41d0\", \"linear_morphing.mp4\", 14275)"
            ]
          },
          "metadata": {}
        },
        {
          "output_type": "stream",
          "name": "stdout",
          "text": [
            "0.0023734569549560547\n"
          ]
        },
        {
          "output_type": "display_data",
          "data": {
            "text/plain": [
              "<Figure size 640x480 with 1 Axes>"
            ],
            "image/png": "[encoded data removed]"
          },
          "metadata": {}
        }
      ],
      "source": [
        "start=time.time()\n",
        "grid_size = 64\n",
        "\n",
        "fig = plt.figure()\n",
        "x = gen_grid(grid_size,-2.0,2.0)\n",
        "\n",
        "def animate(t):\n",
        "    plt.cla()\n",
        "    out = linear_morphing(sdf_box,sdf_pentagon,np.array([t]), x)\n",
        "    #levels = np.linspace(-1.0, 1.0, 21)\n",
        "    #im = plt.contourf(out.reshape(grid_size, grid_size), levels = levels)\n",
        "    im = plt.contour(out.reshape(grid_size, grid_size), levels = [0.0])\n",
        "    plt.axis('equal')\n",
        "    plt.axis(\"off\")\n",
        "    return im\n",
        "\n",
        "anim = animation.FuncAnimation(fig, animate, frames=np.linspace(0, 1, 50), interval=50)\n",
        "end=time.time()\n",
        "anim.save(\"linear_morphing.mp4\", fps=20, writer=\"ffmpeg\")\n",
        "#anim = animation.FuncAnimation(fig, animate, frames=100, interval=20, blit=True)\n",
        "HTML(anim.to_html5_video())\n",
        "#HTML(anim.to_html5_video())\n",
        "files.download(\"linear_morphing.mp4\")\n",
        "print(end-start)"
      ]
    },
    {
      "cell_type": "code",
      "execution_count": 33,
      "metadata": {
        "colab": {
          "base_uri": "https://localhost:8080/",
          "height": 424
        },
        "id": "Ie5RLCGYgYuj",
        "outputId": "86c7dad8-4a93-4950-d58d-48872eccde3b"
      },
      "outputs": [
        {
          "output_type": "display_data",
          "data": {
            "text/plain": [
              "<IPython.core.display.Javascript object>"
            ],
            "application/javascript": [
              "\n",
              "    async function download(id, filename, size) {\n",
              "      if (!google.colab.kernel.accessAllowed) {\n",
              "        return;\n",
              "      }\n",
              "      const div = document.createElement('div');\n",
              "      const label = document.createElement('label');\n",
              "      label.textContent = `Downloading \"${filename}\": `;\n",
              "      div.appendChild(label);\n",
              "      const progress = document.createElement('progress');\n",
              "      progress.max = size;\n",
              "      div.appendChild(progress);\n",
              "      document.body.appendChild(div);\n",
              "\n",
              "      const buffers = [];\n",
              "      let downloaded = 0;\n",
              "\n",
              "      const channel = await google.colab.kernel.comms.open(id);\n",
              "      // Send a message to notify the kernel that we're ready.\n",
              "      channel.send({})\n",
              "\n",
              "      for await (const message of channel.messages) {\n",
              "        // Send a message to notify the kernel that we're ready.\n",
              "        channel.send({})\n",
              "        if (message.buffers) {\n",
              "          for (const buffer of message.buffers) {\n",
              "            buffers.push(buffer);\n",
              "            downloaded += buffer.byteLength;\n",
              "            progress.value = downloaded;\n",
              "          }\n",
              "        }\n",
              "      }\n",
              "      const blob = new Blob(buffers, {type: 'application/binary'});\n",
              "      const a = document.createElement('a');\n",
              "      a.href = window.URL.createObjectURL(blob);\n",
              "      a.download = filename;\n",
              "      div.appendChild(a);\n",
              "      a.click();\n",
              "      div.remove();\n",
              "    }\n",
              "  "
            ]
          },
          "metadata": {}
        },
        {
          "output_type": "display_data",
          "data": {
            "text/plain": [
              "<IPython.core.display.Javascript object>"
            ],
            "application/javascript": [
              "download(\"download_266dc24f-35fd-4290-9223-d20b02f868ad\", \"stb_morphing_translated.mp4\", 18788)"
            ]
          },
          "metadata": {}
        },
        {
          "output_type": "stream",
          "name": "stdout",
          "text": [
            "0.002976655960083008\n"
          ]
        },
        {
          "output_type": "display_data",
          "data": {
            "text/plain": [
              "<Figure size 640x480 with 1 Axes>"
            ],
            "image/png": "[encoded data removed]"
          },
          "metadata": {}
        }
      ],
      "source": [
        "start=time.time()\n",
        "grid_size = 64\n",
        "\n",
        "fig = plt.figure()\n",
        "x = gen_grid(grid_size, low=-2.0, high=2.0)\n",
        "\n",
        "def animate(t):\n",
        "    plt.cla()\n",
        "    out = space_time_blending(sdf_box,sdf_pentagon,np.array([t]), x, a0=1.0, a1=1.0, a2=1.0)\n",
        "    im = plt.contour(out.reshape(grid_size, grid_size), levels = [0.0])\n",
        "    plt.axis('equal')\n",
        "    plt.axis(\"off\")\n",
        "    return im\n",
        "#space time blending\n",
        "anim = animation.FuncAnimation(fig, animate, frames=np.linspace(0, 1, 50), interval=50)\n",
        "end=time.time()\n",
        "anim.save(\"stb_morphing_translated.mp4\",fps=20, writer=\"ffmpeg\")\n",
        "files.download(\"stb_morphing_translated.mp4\")\n",
        "print(end-start)"
      ]
    },
    {
      "cell_type": "code",
      "source": [
        "start=time.time()\n",
        "grid_size = 64\n",
        "grid = gen_grid(grid_size,-2.0,2.0)\n",
        "\n",
        "# f1 and f2 are prob. distribution corresponding to f1 and f2\n",
        "f1 = sample_and_normalize(sdf_box, grid, grid_size)\n",
        "f2 = sample_and_normalize(sdf_pentagon, grid, grid_size)\n",
        "\n",
        "A = np.array([f1,f2])\n",
        "\n",
        "nb_images = 5\n",
        "reg = 0.004\n",
        "\n",
        "v1 = np.array((1, 0))\n",
        "v2 = np.array((0, 1))\n",
        "\n",
        "fig, axes = plt.subplots(1, nb_images, figsize=(7, 7))\n",
        "plt.suptitle(\"Optimal Trasport\")\n",
        "cm = \"Blues\"\n",
        "\n",
        "for i in range(nb_images):\n",
        "    tx = float(i) / (nb_images - 1)\n",
        "\n",
        "    weights = (1 - tx) * v1 + tx * v2\n",
        "\n",
        "    if i == 0:\n",
        "        axes[i].imshow(f1, cmap=cm)\n",
        "    elif i == (nb_images - 1):\n",
        "        axes[i].imshow(f2, cmap=cm)\n",
        "    else:\n",
        "        # call to barycenter computation\n",
        "        axes[i].imshow(\n",
        "            ot.bregman.convolutional_barycenter2d(A, reg, weights), cmap=cm\n",
        "        )\n",
        "    axes[i].axis(\"off\")\n",
        "#Optimal Trasport\n",
        "plt.tight_layout()\n",
        "plt.show()\n",
        "end=time.time()\n",
        "print(end-start)"
      ],
      "metadata": {
        "colab": {
          "base_uri": "https://localhost:8080/",
          "height": 541
        },
        "id": "UVO5ueaFNBVO",
        "outputId": "142364a4-44f9-4f90-af9d-a46649b929da"
      },
      "execution_count": 45,
      "outputs": [
        {
          "output_type": "stream",
          "name": "stdout",
          "text": [
            "(4096, 2)\n",
            "(4096,)\n",
            "(4096, 2)\n",
            "(4096,)\n"
          ]
        },
        {
          "output_type": "display_data",
          "data": {
            "text/plain": [
              "<Figure size 700x700 with 5 Axes>"
            ],
            "image/png": "[encoded data removed]"
          },
          "metadata": {}
        },
        {
          "output_type": "stream",
          "name": "stdout",
          "text": [
            "0.3437778949737549\n"
          ]
        }
      ]
    },
    {
      "cell_type": "code",
      "source": [
        "start=time.time()\n",
        "grid_size = 64\n",
        "\n",
        "fig = plt.figure()\n",
        "x = gen_grid(grid_size, low=-2.0, high=2.0)\n",
        "\n",
        "def animate(t):\n",
        "    plt.cla()\n",
        "    out = bounded_blending(sdf_box,sdf_pentagon,np.array([t]), x, a0=1.0, a1=1.0, a2=1.0)\n",
        "    im = plt.contour(out.reshape(grid_size, grid_size), levels = [0.0])\n",
        "    plt.axis('equal')\n",
        "    plt.axis(\"off\")\n",
        "    return im\n",
        "#bounded blending\n",
        "anim = animation.FuncAnimation(fig, animate, frames=np.linspace(0, 1, 50), interval=50)\n",
        "end=time.time()\n",
        "anim.save(\"bd_morphing_translated.mp4\",fps=20, writer=\"ffmpeg\")\n",
        "files.download(\"bd_morphing_translated.mp4\")\n",
        "print(end-start)"
      ],
      "metadata": {
        "colab": {
          "base_uri": "https://localhost:8080/",
          "height": 424
        },
        "id": "J-pQF3K6QP9k",
        "outputId": "df50c3e8-e566-425d-a418-c19636f17483"
      },
      "execution_count": 46,
      "outputs": [
        {
          "output_type": "display_data",
          "data": {
            "text/plain": [
              "<IPython.core.display.Javascript object>"
            ],
            "application/javascript": [
              "\n",
              "    async function download(id, filename, size) {\n",
              "      if (!google.colab.kernel.accessAllowed) {\n",
              "        return;\n",
              "      }\n",
              "      const div = document.createElement('div');\n",
              "      const label = document.createElement('label');\n",
              "      label.textContent = `Downloading \"${filename}\": `;\n",
              "      div.appendChild(label);\n",
              "      const progress = document.createElement('progress');\n",
              "      progress.max = size;\n",
              "      div.appendChild(progress);\n",
              "      document.body.appendChild(div);\n",
              "\n",
              "      const buffers = [];\n",
              "      let downloaded = 0;\n",
              "\n",
              "      const channel = await google.colab.kernel.comms.open(id);\n",
              "      // Send a message to notify the kernel that we're ready.\n",
              "      channel.send({})\n",
              "\n",
              "      for await (const message of channel.messages) {\n",
              "        // Send a message to notify the kernel that we're ready.\n",
              "        channel.send({})\n",
              "        if (message.buffers) {\n",
              "          for (const buffer of message.buffers) {\n",
              "            buffers.push(buffer);\n",
              "            downloaded += buffer.byteLength;\n",
              "            progress.value = downloaded;\n",
              "          }\n",
              "        }\n",
              "      }\n",
              "      const blob = new Blob(buffers, {type: 'application/binary'});\n",
              "      const a = document.createElement('a');\n",
              "      a.href = window.URL.createObjectURL(blob);\n",
              "      a.download = filename;\n",
              "      div.appendChild(a);\n",
              "      a.click();\n",
              "      div.remove();\n",
              "    }\n",
              "  "
            ]
          },
          "metadata": {}
        },
        {
          "output_type": "display_data",
          "data": {
            "text/plain": [
              "<IPython.core.display.Javascript object>"
            ],
            "application/javascript": [
              "download(\"download_ee3b37df-a1d4-419b-896a-f507a63380e7\", \"bd_morphing_translated.mp4\", 11239)"
            ]
          },
          "metadata": {}
        },
        {
          "output_type": "stream",
          "name": "stdout",
          "text": [
            "0.002880096435546875\n"
          ]
        },
        {
          "output_type": "display_data",
          "data": {
            "text/plain": [
              "<Figure size 640x480 with 1 Axes>"
            ],
            "image/png": "[encoded data removed]"
          },
          "metadata": {}
        }
      ]
    }
  ],
  "metadata": {
    "colab": {
      "provenance": []
    },
    "kernelspec": {
      "display_name": "Python 3 (ipykernel)",
      "language": "python",
      "name": "python3"
    },
    "language_info": {
      "codemirror_mode": {
        "name": "ipython",
        "version": 3
      },
      "file_extension": ".py",
      "mimetype": "text/x-python",
      "name": "python",
      "nbconvert_exporter": "python",
      "pygments_lexer": "ipython3",
      "version": "3.13.0"
    }
  },
  "nbformat": 4,
  "nbformat_minor": 0
}