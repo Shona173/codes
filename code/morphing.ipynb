{
 "cells": [
  {
   "cell_type": "code",
   "execution_count": 63,
   "id": "34754482-ca88-470d-a36e-5a27e988bc9f",
   "metadata": {},
   "outputs": [],
   "source": [
    "import os\n",
    "from pathlib import Path\n",
    "\n",
    "import numpy as np\n",
    "import matplotlib.pyplot as plt\n",
    "import matplotlib.animation as animation\n",
    "import ot\n",
    "import numpy.random as random"
   ]
  },
  {
   "cell_type": "code",
   "execution_count": 64,
   "id": "557292e1-f057-4bb6-a280-fdbbc203a298",
   "metadata": {},
   "outputs": [],
   "source": [
    "def sdf_circle(x, r=0.5):\n",
    "    return np.sqrt(np.sum(x**2, axis=1)) - r"
   ]
  },
  {
   "cell_type": "code",
   "execution_count": 65,
   "id": "15564a86-6bbf-48ae-9ea9-997fd84456a0",
   "metadata": {},
   "outputs": [],
   "source": [
    "def sdf_box(x, b=[1.0,1.0]):\n",
    "    d = np.abs(x)-b\n",
    "    max_d = np.maximum(d, 0.0)\n",
    "    length_d = np.sqrt(np.sum(max_d**2, 1))\n",
    "    return length_d + np.minimum(np.maximum(d[:,0], d[:,1]), 0.0)"
   ]
  },
  {
   "cell_type": "code",
   "execution_count": 66,
   "id": "20f57ee8-0c0e-48e3-8f57-b759a86710a3",
   "metadata": {},
   "outputs": [],
   "source": [
    "def sample_grid(resolution, low=-1.0, high=1.0):\n",
    "    idx = np.linspace(low, high, num=resolution)\n",
    "    x, y = np.meshgrid(idx, idx)\n",
    "    V = np.concatenate((x.reshape((-1,1)), y.reshape((-1,1))), 1)\n",
    "\n",
    "    return V"
   ]
  },
  {
   "cell_type": "code",
   "execution_count": 67,
   "id": "3d16b17e-0aff-4712-a88c-ebb63af306a5",
   "metadata": {},
   "outputs": [],
   "source": [
    "def linear_morphing(f1, f2, t, x):\n",
    "    return (1-t)*f1(x) + t*f2(x)"
   ]
  },
  {
   "cell_type": "code",
   "execution_count": 68,
   "id": "125b3aa0-18de-42c6-9f72-7b3ab0bd315a",
   "metadata": {},
   "outputs": [
    {
     "name": "stderr",
     "output_type": "stream",
     "text": [
      "MovieWriter imagemagick unavailable; using Pillow instead.\n"
     ]
    },
    {
     "data": {
      "image/png": "[encoded data removed]",
      "text/plain": [
       "<Figure size 640x480 with 1 Axes>"
      ]
     },
     "metadata": {},
     "output_type": "display_data"
    }
   ],
   "source": [
    "grid_size = 32\n",
    "\n",
    "fig = plt.figure()\n",
    "x = sample_grid(grid_size)\n",
    "\n",
    "def animate(t):\n",
    "    plt.cla()\n",
    "    f1=sdf_circle\n",
    "    f2=sdf_box\n",
    "    out = linear_morphing(f1, f2,np.array([t]), x)\n",
    "    #levels = np.linspace(-1.0, 1.0, 21)\n",
    "    #im = plt.contourf(out.reshape(grid_size, grid_size), levels = levels)\n",
    "    im = plt.contour(out.reshape(grid_size, grid_size), levels = [0.0])\n",
    "    plt.axis('equal')\n",
    "    plt.axis(\"off\")\n",
    "    return im\n",
    "\n",
    "\n",
    "anim = animation.FuncAnimation(fig, animate, frames=np.linspace(0, 1, 50), interval=50)\n",
    "anim.save(\"output.gif\", writer=\"imagemagick\")"
   ]
  },
  {
   "cell_type": "code",
   "execution_count": 69,
   "id": "bbccf4c0-1df9-418a-9ea6-ce341379efc7",
   "metadata": {},
   "outputs": [
    {
     "ename": "NameError",
     "evalue": "name 'nb_images' is not defined",
     "output_type": "error",
     "traceback": [
      "\u001b[0;31m---------------------------------------------------------------------------\u001b[0m",
      "\u001b[0;31mNameError\u001b[0m                                 Traceback (most recent call last)",
      "Cell \u001b[0;32mIn[69], line 7\u001b[0m\n\u001b[1;32m      4\u001b[0m v1 \u001b[38;5;241m=\u001b[39m np\u001b[38;5;241m.\u001b[39marray((\u001b[38;5;241m1\u001b[39m, \u001b[38;5;241m0\u001b[39m, \u001b[38;5;241m0\u001b[39m, \u001b[38;5;241m0\u001b[39m))\n\u001b[1;32m      5\u001b[0m v2 \u001b[38;5;241m=\u001b[39m np\u001b[38;5;241m.\u001b[39marray((\u001b[38;5;241m0\u001b[39m, \u001b[38;5;241m1\u001b[39m, \u001b[38;5;241m0\u001b[39m, \u001b[38;5;241m0\u001b[39m))\n\u001b[0;32m----> 7\u001b[0m fig, axes \u001b[38;5;241m=\u001b[39m plt\u001b[38;5;241m.\u001b[39msubplots(\u001b[43mnb_images\u001b[49m, nb_images, figsize\u001b[38;5;241m=\u001b[39m(\u001b[38;5;241m7\u001b[39m, \u001b[38;5;241m7\u001b[39m))\n\u001b[1;32m      8\u001b[0m plt\u001b[38;5;241m.\u001b[39msuptitle(\u001b[38;5;124m'\u001b[39m\u001b[38;5;124mConvolutional Wasserstein Barycenters in POT\u001b[39m\u001b[38;5;124m'\u001b[39m)\n\u001b[1;32m      9\u001b[0m cm \u001b[38;5;241m=\u001b[39m \u001b[38;5;124m'\u001b[39m\u001b[38;5;124mBlues\u001b[39m\u001b[38;5;124m'\u001b[39m\n",
      "\u001b[0;31mNameError\u001b[0m: name 'nb_images' is not defined"
     ]
    }
   ],
   "source": [
    "f1=sdf_circle\n",
    "f2=sdf_box\n",
    "\n",
    "nb_images = 5\n",
    "v1 = np.array((1, 0, 0, 0))\n",
    "v2 = np.array((0, 1, 0, 0))\n",
    "\n",
    "fig, axes = plt.subplots(nb_images, nb_images, figsize=(7, 7))\n",
    "\n",
    "# regularization parameter\n",
    "reg = 0.004\n",
    "for i in range(nb_images):\n",
    "    for j in range(nb_images):\n",
    "        tx = float(i) / (nb_images - 1)\n",
    "        ty = float(j) / (nb_images - 1)\n",
    "\n",
    "        # weights are constructed by bilinear interpolation\n",
    "        tmp1 = (1 - tx) * v1 + tx * v2\n",
    "        tmp2 = (1 - tx) * v3 + tx * v4\n",
    "        weights = (1 - ty) * tmp1 + ty * tmp2\n",
    "\n",
    "        if i == 0 and j == 0:\n",
    "            axes[i, j].imshow(f1, cmap=cm)\n",
    "        elif i == 0 and j == (nb_images - 1):\n",
    "            axes[i, j].imshow(f3, cmap=cm)\n",
    "        elif i == (nb_images - 1) and j == 0:\n",
    "            axes[i, j].imshow(f2, cmap=cm)\n",
    "        elif i == (nb_images - 1) and j == (nb_images - 1):\n",
    "            axes[i, j].imshow(f4, cmap=cm)\n",
    "        else:\n",
    "            # call to barycenter computation\n",
    "            axes[i, j].imshow(\n",
    "                ot.bregman.convolutional_barycenter2d(A, reg, weights),\n",
    "                cmap=cm\n",
    "            )\n",
    "        axes[i, j].axis('off')\n",
    "plt.tight_layout()\n",
    "plt.show()"
   ]
  },
  {
   "cell_type": "code",
   "execution_count": null,
   "id": "88fafca2-8088-4d70-8d70-1eeb5ccd7e3f",
   "metadata": {},
   "outputs": [],
   "source": []
  }
 ],
 "metadata": {
  "kernelspec": {
   "display_name": "Python 3 (ipykernel)",
   "language": "python",
   "name": "python3"
  },
  "language_info": {
   "codemirror_mode": {
    "name": "ipython",
    "version": 3
   },
   "file_extension": ".py",
   "mimetype": "text/x-python",
   "name": "python",
   "nbconvert_exporter": "python",
   "pygments_lexer": "ipython3",
   "version": "3.13.0"
  }
 },
 "nbformat": 4,
 "nbformat_minor": 5
}
