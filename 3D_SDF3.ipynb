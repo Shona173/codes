{
  "nbformat": 4,
  "nbformat_minor": 0,
  "metadata": {
    "colab": {
      "provenance": [],
      "authorship_tag": "ABX9TyNOU47lWFS1y0EA8MWouuYr",
      "include_colab_link": true
    },
    "kernelspec": {
      "name": "python3",
      "display_name": "Python 3"
    },
    "language_info": {
      "name": "python"
    }
  },
  "cells": [
    {
      "cell_type": "markdown",
      "metadata": {
        "id": "view-in-github",
        "colab_type": "text"
      },
      "source": [
        "<a href=\"https://colab.research.google.com/github/Shona173/codes/blob/main/3D_SDF3.ipynb\" target=\"_parent\"><img src=\"https://colab.research.google.com/assets/colab-badge.svg\" alt=\"Open In Colab\"/></a>"
      ]
    },
    {
      "cell_type": "code",
      "execution_count": 1,
      "metadata": {
        "colab": {
          "base_uri": "https://localhost:8080/"
        },
        "id": "2jRovhSNG-VF",
        "outputId": "5be61f97-ae7f-44f7-a13b-4bebc93271e8"
      },
      "outputs": [
        {
          "output_type": "stream",
          "name": "stdout",
          "text": [
            "Collecting POT\n",
            "  Downloading POT-0.9.5-cp311-cp311-manylinux_2_17_x86_64.manylinux2014_x86_64.whl.metadata (34 kB)\n",
            "Requirement already satisfied: numpy>=1.16 in /usr/local/lib/python3.11/dist-packages (from POT) (2.0.2)\n",
            "Requirement already satisfied: scipy>=1.6 in /usr/local/lib/python3.11/dist-packages (from POT) (1.15.3)\n",
            "Downloading POT-0.9.5-cp311-cp311-manylinux_2_17_x86_64.manylinux2014_x86_64.whl (897 kB)\n",
            "\u001b[2K   \u001b[90m━━━━━━━━━━━━━━━━━━━━━━━━━━━━━━━━━━━━━━━━\u001b[0m \u001b[32m897.5/897.5 kB\u001b[0m \u001b[31m22.2 MB/s\u001b[0m eta \u001b[36m0:00:00\u001b[0m\n",
            "\u001b[?25hInstalling collected packages: POT\n",
            "Successfully installed POT-0.9.5\n",
            "Collecting trimesh\n",
            "  Downloading trimesh-4.6.10-py3-none-any.whl.metadata (18 kB)\n",
            "Requirement already satisfied: numpy>=1.20 in /usr/local/lib/python3.11/dist-packages (from trimesh) (2.0.2)\n",
            "Downloading trimesh-4.6.10-py3-none-any.whl (711 kB)\n",
            "\u001b[2K   \u001b[90m━━━━━━━━━━━━━━━━━━━━━━━━━━━━━━━━━━━━━━━━\u001b[0m \u001b[32m711.2/711.2 kB\u001b[0m \u001b[31m13.6 MB/s\u001b[0m eta \u001b[36m0:00:00\u001b[0m\n",
            "\u001b[?25hInstalling collected packages: trimesh\n",
            "Successfully installed trimesh-4.6.10\n",
            "Collecting pyrender\n",
            "  Downloading pyrender-0.1.45-py3-none-any.whl.metadata (1.5 kB)\n",
            "Collecting freetype-py (from pyrender)\n",
            "  Downloading freetype_py-2.5.1-py3-none-manylinux_2_5_x86_64.manylinux1_x86_64.manylinux_2_12_x86_64.manylinux2010_x86_64.whl.metadata (6.3 kB)\n",
            "Requirement already satisfied: imageio in /usr/local/lib/python3.11/dist-packages (from pyrender) (2.37.0)\n",
            "Requirement already satisfied: networkx in /usr/local/lib/python3.11/dist-packages (from pyrender) (3.4.2)\n",
            "Requirement already satisfied: numpy in /usr/local/lib/python3.11/dist-packages (from pyrender) (2.0.2)\n",
            "Requirement already satisfied: Pillow in /usr/local/lib/python3.11/dist-packages (from pyrender) (11.2.1)\n",
            "Collecting pyglet>=1.4.10 (from pyrender)\n",
            "  Downloading pyglet-2.1.6-py3-none-any.whl.metadata (7.7 kB)\n",
            "Collecting PyOpenGL==3.1.0 (from pyrender)\n",
            "  Downloading PyOpenGL-3.1.0.zip (2.2 MB)\n",
            "\u001b[2K     \u001b[90m━━━━━━━━━━━━━━━━━━━━━━━━━━━━━━━━━━━━━━━━\u001b[0m \u001b[32m2.2/2.2 MB\u001b[0m \u001b[31m30.4 MB/s\u001b[0m eta \u001b[36m0:00:00\u001b[0m\n",
            "\u001b[?25h  Preparing metadata (setup.py) ... \u001b[?25l\u001b[?25hdone\n",
            "Requirement already satisfied: scipy in /usr/local/lib/python3.11/dist-packages (from pyrender) (1.15.3)\n",
            "Requirement already satisfied: six in /usr/local/lib/python3.11/dist-packages (from pyrender) (1.17.0)\n",
            "Requirement already satisfied: trimesh in /usr/local/lib/python3.11/dist-packages (from pyrender) (4.6.10)\n",
            "Downloading pyrender-0.1.45-py3-none-any.whl (1.2 MB)\n",
            "\u001b[2K   \u001b[90m━━━━━━━━━━━━━━━━━━━━━━━━━━━━━━━━━━━━━━━━\u001b[0m \u001b[32m1.2/1.2 MB\u001b[0m \u001b[31m14.4 MB/s\u001b[0m eta \u001b[36m0:00:00\u001b[0m\n",
            "\u001b[?25hDownloading pyglet-2.1.6-py3-none-any.whl (983 kB)\n",
            "\u001b[2K   \u001b[90m━━━━━━━━━━━━━━━━━━━━━━━━━━━━━━━━━━━━━━━━\u001b[0m \u001b[32m984.0/984.0 kB\u001b[0m \u001b[31m57.7 MB/s\u001b[0m eta \u001b[36m0:00:00\u001b[0m\n",
            "\u001b[?25hDownloading freetype_py-2.5.1-py3-none-manylinux_2_5_x86_64.manylinux1_x86_64.manylinux_2_12_x86_64.manylinux2010_x86_64.whl (1.0 MB)\n",
            "\u001b[2K   \u001b[90m━━━━━━━━━━━━━━━━━━━━━━━━━━━━━━━━━━━━━━━━\u001b[0m \u001b[32m1.0/1.0 MB\u001b[0m \u001b[31m53.6 MB/s\u001b[0m eta \u001b[36m0:00:00\u001b[0m\n",
            "\u001b[?25hBuilding wheels for collected packages: PyOpenGL\n",
            "  Building wheel for PyOpenGL (setup.py) ... \u001b[?25l\u001b[?25hdone\n",
            "  Created wheel for PyOpenGL: filename=PyOpenGL-3.1.0-py3-none-any.whl size=1745193 sha256=3aa481c8c22a024ac82d0999781433a6416f0c3d2483559befb89d35d87a7d7f\n",
            "  Stored in directory: /root/.cache/pip/wheels/2f/37/f5/f88cd3dddf75bc3ce608e44bf8a79078c408bf1f351a50818e\n",
            "Successfully built PyOpenGL\n",
            "Installing collected packages: PyOpenGL, pyglet, freetype-py, pyrender\n",
            "  Attempting uninstall: PyOpenGL\n",
            "    Found existing installation: PyOpenGL 3.1.9\n",
            "    Uninstalling PyOpenGL-3.1.9:\n",
            "      Successfully uninstalled PyOpenGL-3.1.9\n",
            "Successfully installed PyOpenGL-3.1.0 freetype-py-2.5.1 pyglet-2.1.6 pyrender-0.1.45\n",
            "Collecting ffmpeg-python\n",
            "  Downloading ffmpeg_python-0.2.0-py3-none-any.whl.metadata (1.7 kB)\n",
            "Requirement already satisfied: future in /usr/local/lib/python3.11/dist-packages (from ffmpeg-python) (1.0.0)\n",
            "Downloading ffmpeg_python-0.2.0-py3-none-any.whl (25 kB)\n",
            "Installing collected packages: ffmpeg-python\n",
            "Successfully installed ffmpeg-python-0.2.0\n"
          ]
        }
      ],
      "source": [
        "!pip install POT\n",
        "!pip install trimesh\n",
        "!pip install pyrender\n",
        "!pip install ffmpeg-python"
      ]
    },
    {
      "cell_type": "code",
      "source": [
        "import numpy as np\n",
        "import numpy.random as random\n",
        "\n",
        "import matplotlib.pyplot as plt\n",
        "import skimage.measure\n",
        "import trimesh\n",
        "import pyrender\n",
        "import matplotlib.animation as animation\n",
        "from google.colab import files\n",
        "from matplotlib import animation\n",
        "from scipy.ndimage import gaussian_filter\n",
        "from IPython.display import HTML\n",
        "import ot\n",
        "import os\n",
        "import time"
      ],
      "metadata": {
        "id": "6wRwaeT8Lfix"
      },
      "execution_count": 2,
      "outputs": []
    },
    {
      "cell_type": "code",
      "source": [
        "def clamp(value, min_val, max_val):\n",
        "    return np.maximum(min_val, np.minimum(value, max_val))"
      ],
      "metadata": {
        "id": "W-Apwba1LhxF"
      },
      "execution_count": 3,
      "outputs": []
    },
    {
      "cell_type": "code",
      "source": [
        "def sdf_to_distribution(f_sdf, grid, grid_size):\n",
        "    vals = f_sdf(grid)\n",
        "    mask = (vals < 0).astype(np.float32)\n",
        "    normed = mask / np.sum(mask)\n",
        "    return normed.reshape((grid_size, grid_size, grid_size))"
      ],
      "metadata": {
        "id": "QOJXk6pTrr7v"
      },
      "execution_count": 4,
      "outputs": []
    },
    {
      "cell_type": "code",
      "source": [
        "def sdf_sphere(p, s=0.5):\n",
        "    p = p.copy()\n",
        "    return np.sqrt(np.sum(p**2, axis=1))-s"
      ],
      "metadata": {
        "id": "FMTKOT7qLkbP"
      },
      "execution_count": 5,
      "outputs": []
    },
    {
      "cell_type": "code",
      "source": [
        "def sdf_box(p, b=[0.5,0.5,0.5]):\n",
        "    p2 = p.copy()\n",
        "    q = np.abs(p2) - b\n",
        "    q2 = np.maximum(q, 0.0)\n",
        "    q2 = np.linalg.norm(q2, axis=1, ord=2)\n",
        "    q3 = np.minimum(np.maximum(q[:,0], np.maximum(q[:,1], q[:,2])), 0.0)\n",
        "    return q2 + q3"
      ],
      "metadata": {
        "id": "B12vIj_Er4RR"
      },
      "execution_count": 6,
      "outputs": []
    },
    {
      "cell_type": "code",
      "source": [
        "def sdf_octahedron(p, s=0.5):\n",
        "    p = np.abs(p)\n",
        "    m = np.sum(p, axis=1) - s\n",
        "    d = np.zeros(p.shape[0])\n",
        "\n",
        "    # Get index for each branch\n",
        "    idx_x = 3.0 * p[:, 0] < m\n",
        "    idx_y = (~idx_x) & (3.0 * p[:, 1] < m)\n",
        "    idx_z = (~idx_x) & (~idx_y) & (3.0 * p[:, 2] < m)\n",
        "    idx_else = ~(idx_x | idx_y | idx_z)\n",
        "\n",
        "    # Build q for each condition\n",
        "    q = np.zeros_like(p)\n",
        "    q[idx_x] = p[idx_x]\n",
        "    q[idx_y] = p[idx_y][:, [1, 2, 0]]\n",
        "    q[idx_z] = p[idx_z][:, [2, 0, 1]]\n",
        "\n",
        "    # Calculate distance for q\n",
        "    k = clamp(0.5 * (q[:, 2] - q[:, 1] + s), 0.0, s)\n",
        "    d_tmp = np.linalg.norm(np.stack([q[:, 0], q[:, 1] - s + k, q[:, 2] - k], axis=1), axis=1)\n",
        "\n",
        "    # Assign to d according to condition\n",
        "    d[idx_x | idx_y | idx_z] = d_tmp[idx_x | idx_y | idx_z]\n",
        "    d[idx_else] = m[idx_else] * 0.57735027  # 1/sqrt(3)\n",
        "\n",
        "    return d"
      ],
      "metadata": {
        "id": "UUJnN7CgLqro"
      },
      "execution_count": 7,
      "outputs": []
    },
    {
      "cell_type": "code",
      "source": [
        "def r_union(f1, f2):\n",
        "    return f1 + f2 + np.sqrt(f1**2 + f2**2)"
      ],
      "metadata": {
        "id": "aDSzGY01LuAM"
      },
      "execution_count": 8,
      "outputs": []
    },
    {
      "cell_type": "code",
      "source": [
        "def r_intersection(f1,f2):\n",
        "  return f1+f2-np.sqrt(f1**2+f2**2)"
      ],
      "metadata": {
        "id": "fd6b3bDALvuk"
      },
      "execution_count": 9,
      "outputs": []
    },
    {
      "cell_type": "code",
      "source": [
        "def entropy(mu, a):\n",
        "    mu_safe = np.maximum(mu, 1e-8)\n",
        "    return -np.sum(a * mu_safe * np.log(mu_safe))"
      ],
      "metadata": {
        "id": "tCilalNBl0ri"
      },
      "execution_count": 10,
      "outputs": []
    },
    {
      "cell_type": "code",
      "source": [
        "def convolution_operator(volume, sigma):\n",
        "    return gaussian_filter(volume, sigma=sigma, mode='constant')"
      ],
      "metadata": {
        "id": "wok7UUXxmi5C"
      },
      "execution_count": 11,
      "outputs": []
    },
    {
      "cell_type": "code",
      "source": [
        "def algorithm_barycenter_3d(mu_list, alpha_list, sigma=0.5, max_iter=100):\n",
        "    k = len(mu_list)\n",
        "    shape = mu_list[0].shape\n",
        "    a = 1.0 / np.prod(shape)\n",
        "\n",
        "    mu_list = [mu / np.sum(mu) for mu in mu_list]\n",
        "    v_list = [np.ones(shape) for _ in range(k)]\n",
        "    w_list = [np.ones(shape) for _ in range(k)]\n",
        "\n",
        "    for _ in range(max_iter):\n",
        "        d_list = []\n",
        "        mu= np.ones(shape)\n",
        "        for i in range(k):\n",
        "            conv_v = convolution_operator(v_list[i], sigma)\n",
        "            w_list[i] = mu_list[i] / (conv_v + 1e-8)\n",
        "            d_i = v_list[i] * convolution_operator(w_list[i], sigma)\n",
        "            d_list.append(d_i)\n",
        "            mu=mu*d_list[i]**alpha_list[i]\n",
        "\n",
        "\n",
        "        for i in range(k):\n",
        "            v_list[i] = v_list[i] * mu / (d_list[i] + 1e-8)\n",
        "\n",
        "    return mu"
      ],
      "metadata": {
        "id": "du-deMiEL1KZ"
      },
      "execution_count": 12,
      "outputs": []
    },
    {
      "cell_type": "code",
      "source": [
        "def export_volume_to_obj(volume,level, bounds, output_file):\n",
        "    min_val = np.min(volume)\n",
        "    max_val = np.max(volume)\n",
        "\n",
        "    if max_val-min_val < 1e-6:\n",
        "        print(\"Volume fluctuations are too small\")\n",
        "        return\n",
        "\n",
        "    level = min_val + 0.5 * (max_val - min_val)\n",
        "\n",
        "    try:\n",
        "      verts, faces, normals, _ = skimage.measure.marching_cubes(volume, level=level)\n",
        "    except RuntimeError as e:\n",
        "        print(\"marching_cubes failed: {e}\")\n",
        "        return\n",
        "\n",
        "    scale = (bounds[1] - bounds[0]) / (volume.shape[0] - 1)\n",
        "    verts = verts * scale + bounds[0]\n",
        "\n",
        "    mesh = trimesh.Trimesh(vertices=verts, faces=faces, vertex_normals=normals)\n",
        "    mesh.export(output_file)"
      ],
      "metadata": {
        "id": "AxjVo1SfmumV"
      },
      "execution_count": 13,
      "outputs": []
    },
    {
      "cell_type": "code",
      "source": [
        "def conv_ot_barycenter(mu_list, alpha, K, niter=100, eps=1e-8):\n",
        "\n",
        "    mu_list = [mu / np.sum(mu) for mu in mu_list]\n",
        "    alpha = np.array(alpha, dtype=np.float32)\n",
        "    alpha = alpha / np.sum(alpha)\n",
        "\n",
        "    shape = mu_list[0].shape\n",
        "    v_list = [np.ones(shape, dtype=np.float32) for _ in mu_list]\n",
        "    bary = np.ones(shape, dtype=np.float32)\n",
        "\n",
        "    for _ in range(niter):\n",
        "        w_list = []\n",
        "        d_list = []\n",
        "\n",
        "        for i in range(len(mu_list)):\n",
        "            KT_v = K(v_list[i])\n",
        "            w = mu_list[i] / (KT_v + eps)\n",
        "            d = v_list[i] * K(w)\n",
        "            d = np.maximum(d, eps)\n",
        "            w_list.append(w)\n",
        "            d_list.append(d)\n",
        "\n",
        "        log_d = np.stack([alpha[i] * np.log(d_list[i]) for i in range(len(alpha))], axis=0)\n",
        "        bary = np.exp(np.sum(log_d, axis=0))\n",
        "\n",
        "        for i in range(len(mu_list)):\n",
        "            v_list[i] = v_list[i] * bary / (d_list[i] + eps)\n",
        "\n",
        "    return bary"
      ],
      "metadata": {
        "id": "piTIVK7QE0XD"
      },
      "execution_count": 14,
      "outputs": []
    },
    {
      "cell_type": "code",
      "source": [
        "def optimal_transport_sdf_blend(\n",
        "    sdf1, sdf2, grid_size=64, bounds=(-1.5, 1.5),\n",
        "    ts=[0.0],\n",
        "    sigma=1.0,\n",
        "    out_dir=\"ot_outputs\"\n",
        "):\n",
        "    os.makedirs(out_dir, exist_ok=True)\n",
        "\n",
        "\n",
        "    x = np.linspace(bounds[0], bounds[1], grid_size)\n",
        "    X, Y, Z = np.meshgrid(x, x, x, indexing=\"ij\")\n",
        "    grid = np.stack([X.ravel(), Y.ravel(), Z.ravel()], axis=1)\n",
        "\n",
        "    mu1 = sdf_to_distribution(lambda p: -sdf1(p), grid, grid_size)\n",
        "    mu2 = sdf_to_distribution(lambda p: -sdf2(p), grid, grid_size)\n",
        "\n",
        "    for t in ts:\n",
        "        alpha_list = [1 - t, t]\n",
        "        mu_bary = conv_ot_barycenter([mu1, mu2], alpha_list, lambda f: gaussian_filter(f, sigma=sigma), niter=100)#test\n",
        "        #mu_bary = algorithm_barycenter_3d([mu1, mu2], alpha_list, sigma=sigma, max_iter=100)\n",
        "        min_mu=np.min(mu_bary)\n",
        "        max_mu=np.max(mu_bary)\n",
        "        level = min_mu + 0.5 * (max_mu - min_mu)\n",
        "        filename = f\"t{t:.2f}.obj\"\n",
        "        export_volume_to_obj(mu_bary, level=level, bounds=bounds, output_file=os.path.join(out_dir, filename))\n",
        "        print(\"mu1 sum:\", np.sum(mu1))\n",
        "        print(\"mu2 sum:\", np.sum(mu2))\n",
        "        print(\"mu_bary sum:\", np.sum(mu_bary))\n",
        "        vals = -sdf_sphere(grid)\n",
        "        print(\"sdf min/max:\", np.min(vals), np.max(vals))\n",
        "        print(\"inside count:\", np.sum(vals < 0))"
      ],
      "metadata": {
        "id": "wItrZqN_nD0j"
      },
      "execution_count": 15,
      "outputs": []
    },
    {
      "cell_type": "code",
      "source": [
        "optimal_transport_sdf_blend(\n",
        "    sdf1 = sdf_sphere,\n",
        "    sdf2 = sdf_octahedron,\n",
        "    ts = [1.0],\n",
        "    grid_size = 64,\n",
        "    bounds = (-2.0, 2.0),\n",
        "    sigma = 3.0,\n",
        "    out_dir = \"ot_sigma0.1_sphere_octahedron\"\n",
        ")"
      ],
      "metadata": {
        "colab": {
          "base_uri": "https://localhost:8080/"
        },
        "id": "8nGGIeLbqypg",
        "outputId": "7f50cc80-3683-44bb-f75f-2a8b174b4bb8"
      },
      "execution_count": 16,
      "outputs": [
        {
          "output_type": "stream",
          "name": "stdout",
          "text": [
            "mu1 sum: 0.99999994\n",
            "mu2 sum: 0.9999997\n",
            "mu_bary sum: 1.0000007\n",
            "sdf min/max: -2.9641016151377544 0.4450142600771787\n",
            "inside count: 260136\n"
          ]
        }
      ]
    }
  ]
}