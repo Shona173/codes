{
  "nbformat": 4,
  "nbformat_minor": 0,
  "metadata": {
    "colab": {
      "provenance": []
    },
    "kernelspec": {
      "name": "python3",
      "display_name": "Python 3"
    },
    "language_info": {
      "name": "python"
    }
  },
  "cells": [
    {
      "cell_type": "code",
      "execution_count": 1,
      "metadata": {
        "colab": {
          "base_uri": "https://localhost:8080/"
        },
        "id": "rRHWsP-UR-JE",
        "outputId": "80ecece5-746c-4861-d3e4-c7751d9355bc"
      },
      "outputs": [
        {
          "output_type": "stream",
          "name": "stdout",
          "text": [
            "Collecting POT\n",
            "  Downloading POT-0.9.5-cp310-cp310-manylinux_2_17_x86_64.manylinux2014_x86_64.whl.metadata (34 kB)\n",
            "Requirement already satisfied: numpy>=1.16 in /usr/local/lib/python3.10/dist-packages (from POT) (1.26.4)\n",
            "Requirement already satisfied: scipy>=1.6 in /usr/local/lib/python3.10/dist-packages (from POT) (1.13.1)\n",
            "Downloading POT-0.9.5-cp310-cp310-manylinux_2_17_x86_64.manylinux2014_x86_64.whl (865 kB)\n",
            "\u001b[?25l   \u001b[90m━━━━━━━━━━━━━━━━━━━━━━━━━━━━━━━━━━━━━━━━\u001b[0m \u001b[32m0.0/865.6 kB\u001b[0m \u001b[31m?\u001b[0m eta \u001b[36m-:--:--\u001b[0m\r\u001b[2K   \u001b[90m━━━━━━━━━━━━━━━━━━━━━━━━━━━━━━━━━━━━━━━━\u001b[0m \u001b[32m865.6/865.6 kB\u001b[0m \u001b[31m22.3 MB/s\u001b[0m eta \u001b[36m0:00:00\u001b[0m\n",
            "\u001b[?25hInstalling collected packages: POT\n",
            "Successfully installed POT-0.9.5\n"
          ]
        }
      ],
      "source": [
        "!pip install POT"
      ]
    },
    {
      "cell_type": "code",
      "source": [
        "import numpy as np\n",
        "import math\n",
        "import matplotlib.pyplot as plt\n",
        "import ot"
      ],
      "metadata": {
        "id": "DnQGjRDHSDWI"
      },
      "execution_count": 5,
      "outputs": []
    },
    {
      "cell_type": "code",
      "source": [
        "def clamp(value, min_val, max_val):\n",
        "    return max(min_val, min(value, max_val))"
      ],
      "metadata": {
        "id": "g1GegEEObhUt"
      },
      "execution_count": 12,
      "outputs": []
    },
    {
      "cell_type": "code",
      "source": [
        "def sdf_circle(x, r=0.5):\n",
        "    return np.sqrt(np.sum(x**2, axis=1)) - r"
      ],
      "metadata": {
        "id": "6dCp4WAKSS2g"
      },
      "execution_count": 3,
      "outputs": []
    },
    {
      "cell_type": "code",
      "source": [
        "def sdf_box(x, b=[0.7,0.7]):\n",
        "    d = np.abs(x)-b\n",
        "    max_d = np.maximum(d, 0.0)\n",
        "    length_d = np.sqrt(np.sum(max_d**2, 1))\n",
        "    return length_d + np.minimum(np.maximum(d[:,0], d[:,1]), 0.0)"
      ],
      "metadata": {
        "id": "xKB2b0YXS_9Z"
      },
      "execution_count": 4,
      "outputs": []
    },
    {
      "cell_type": "code",
      "source": [
        "def sdf_triangle(p,r=0.5):\n",
        "    pi=math.pi\n",
        "    p.x=np.abs(p.x)-r\n",
        "    p.y=p.y+r/pi\n",
        "    if(p.x+pi*p.y>0.0):\n",
        "      p=(p.x-pi*p.y,-pi*p.x-p.y)/2.0;\n",
        "    p.x-=clamp(p.x,-2.0*r,0.0);\n",
        "    max_p = np.maximum(p, 0.0)\n",
        "    length_p = np.sqrt(np.sum(max_p**2, 1))\n",
        "    return -length_p*math.sin(p.y)"
      ],
      "metadata": {
        "id": "tqsRY2MSTDZs"
      },
      "execution_count": 15,
      "outputs": []
    },
    {
      "cell_type": "code",
      "source": [
        "def sdf_pentagon(p,r=0.5):\n",
        "  k=np.array[0.809016994,0.587785252,0.726542528];\n",
        "  p.x=np.abs(p.x)\n",
        "  l=(-k.x,k.y)\n",
        "  m=(k.x,k.y)\n",
        "  p-=2.0*min(np.dot(l,p),0.0)*l;\n",
        "  p-=2.0*min(np.dot(m,p),0.0)*m\n",
        "  p-=(clamp(p.x,-r*k.z,r*k.z),r);\n",
        "  max_p = np.maximum(p, 0.0)\n",
        "  length_p = np.sqrt(np.sum(max_p**2, 1))\n",
        "  return -length_p*math.sin(p.y)"
      ],
      "metadata": {
        "id": "5g_edJ3ycIEW"
      },
      "execution_count": 17,
      "outputs": []
    }
  ]
}