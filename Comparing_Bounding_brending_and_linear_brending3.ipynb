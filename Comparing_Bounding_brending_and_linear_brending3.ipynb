{
  "nbformat": 4,
  "nbformat_minor": 0,
  "metadata": {
    "colab": {
      "provenance": [],
      "authorship_tag": "ABX9TyM+76rv1cYKCMle15dWG4e0",
      "include_colab_link": true
    },
    "kernelspec": {
      "name": "python3",
      "display_name": "Python 3"
    },
    "language_info": {
      "name": "python"
    }
  },
  "cells": [
    {
      "cell_type": "markdown",
      "metadata": {
        "id": "view-in-github",
        "colab_type": "text"
      },
      "source": [
        "<a href=\"https://colab.research.google.com/github/Shona173/codes/blob/main/Comparing_Bounding_brending_and_linear_brending3.ipynb\" target=\"_parent\"><img src=\"https://colab.research.google.com/assets/colab-badge.svg\" alt=\"Open In Colab\"/></a>"
      ]
    },
    {
      "cell_type": "code",
      "execution_count": 16,
      "metadata": {
        "id": "X2skv5BzZnZh",
        "colab": {
          "base_uri": "https://localhost:8080/"
        },
        "outputId": "dc055166-1973-4fe3-dc6f-d0c09015c571"
      },
      "outputs": [
        {
          "output_type": "stream",
          "name": "stdout",
          "text": [
            "Requirement already satisfied: POT in /usr/local/lib/python3.11/dist-packages (0.9.5)\n",
            "Requirement already satisfied: numpy>=1.16 in /usr/local/lib/python3.11/dist-packages (from POT) (1.26.4)\n",
            "Requirement already satisfied: scipy>=1.6 in /usr/local/lib/python3.11/dist-packages (from POT) (1.13.1)\n",
            "Requirement already satisfied: ffmpeg-python in /usr/local/lib/python3.11/dist-packages (0.2.0)\n",
            "Requirement already satisfied: future in /usr/local/lib/python3.11/dist-packages (from ffmpeg-python) (1.0.0)\n"
          ]
        }
      ],
      "source": [
        "!pip install POT\n",
        "!pip install ffmpeg-python"
      ]
    },
    {
      "cell_type": "code",
      "source": [
        "import numpy as np\n",
        "import numpy.random as random\n",
        "\n",
        "import matplotlib.pyplot as plt\n",
        "import matplotlib.animation as animation\n",
        "from google.colab import files\n",
        "from matplotlib import animation\n",
        "from IPython.display import HTML\n",
        "import ot"
      ],
      "metadata": {
        "id": "FiRLXXnsZ8rB"
      },
      "execution_count": 17,
      "outputs": []
    },
    {
      "cell_type": "code",
      "source": [
        "def clamp(value, min_val, max_val):\n",
        "    return np.maximum(min_val, np.minimum(value, max_val))"
      ],
      "metadata": {
        "id": "fEJf4mk7Z-qw"
      },
      "execution_count": 18,
      "outputs": []
    },
    {
      "cell_type": "code",
      "source": [
        "def sdf_sword(p,b=[0.7,0.7]):\n",
        "    p = p.copy()\n",
        "    p=np.abs(p)\n",
        "    h=clamp(np.dot(b-2.0*p,b)/np.dot(b,b),-1.0,1.0)\n",
        "    d=np.linalg.norm(p - 0.5 * b * np.array([1.0 - h, 1.0 + h]))\n",
        "    return d*np.sign(p[:,0]*b[:,1]+p[:,1]*b[:,0]-b[:,0]*b[:,1])"
      ],
      "metadata": {
        "id": "GItFvV6SaJJX"
      },
      "execution_count": 37,
      "outputs": []
    },
    {
      "cell_type": "code",
      "source": [
        "def sdf_heart(p,r=0.5):\n",
        "    p=p.copy()\n",
        "    p[0] = abs(p[0])\n",
        "    if p[1] + p[0] > 1.0:\n",
        "        return np.sqrt(np.dot(p - np.array([0.25, 0.75]))) - np.sqrt(2.0) / 4.0\n",
        "    return np.sqrt(min(np.dot(p - np.array([0.00, 1.00])),np.dot(p - 0.5 * max(p[:0] + p[:1], 0.0)))) * np.sign(p[:0]-p[:1])"
      ],
      "metadata": {
        "id": "1p0gbm3NaNrb"
      },
      "execution_count": 36,
      "outputs": []
    },
    {
      "cell_type": "code",
      "source": [
        "def gen_grid(resolution, low=-1.0, high=1.0):\n",
        "    idx = np.linspace(low, high, num=resolution)\n",
        "    x, y = np.meshgrid(idx, idx)\n",
        "    V = np.concatenate((x.reshape((-1,1)), y.reshape((-1,1))), 1)\n",
        "\n",
        "    return V"
      ],
      "metadata": {
        "id": "xjbKhXsDbk6X"
      },
      "execution_count": 21,
      "outputs": []
    },
    {
      "cell_type": "code",
      "source": [
        "def r_union(f1, f2):\n",
        "    return f1 + f2 + np.sqrt(f1**2 + f2**2)"
      ],
      "metadata": {
        "id": "YTB4bTlHbre3"
      },
      "execution_count": 22,
      "outputs": []
    },
    {
      "cell_type": "code",
      "source": [
        "def r_intersection(f1, f2):\n",
        "    return f1 + f2 - np.sqrt(f1**2 + f2**2)"
      ],
      "metadata": {
        "id": "WEemCTcabtb4"
      },
      "execution_count": 23,
      "outputs": []
    },
    {
      "cell_type": "code",
      "source": [
        "def linear_morphing(f1, f2, t, x):\n",
        "    return (1-t)*f1(x) + t*f2(x)"
      ],
      "metadata": {
        "id": "1_FyVPn9bvhy"
      },
      "execution_count": 24,
      "outputs": []
    },
    {
      "cell_type": "code",
      "source": [
        "def space_time_blending(f1, f2, t, x, a0=1.0, a1=1.0, a2=1.0):\n",
        "    f1x = f1(x)\n",
        "    f2x = f2(x)\n",
        "\n",
        "    #f1x_cyl = np.minimum(f1x, -t) # needs R-functions to work properly\n",
        "    f1x_cyl = r_intersection(f1x, -t)\n",
        "    #f2x_cyl = np.minimum(f2x, (t-1)) # needs R-functions to work properly\n",
        "    f2x_cyl = r_intersection(f2x, (t-1))\n",
        "\n",
        "    disp = a0 / (1.0 + (f1x_cyl/a1)**2 + (f2x_cyl/a2)**2)\n",
        "    r_uni = r_union(f1x_cyl, f2x_cyl)\n",
        "\n",
        "    return r_uni + disp"
      ],
      "metadata": {
        "id": "WmfIWqzqbx7C"
      },
      "execution_count": 25,
      "outputs": []
    },
    {
      "cell_type": "code",
      "source": [
        "def bounded_blending(f1, f2, t, x, a0=1.0, a1=1.0, a2=1.0):\n",
        "  f1x=f1(x)\n",
        "  f2x=f2(x)\n",
        "  tx=np.clip(t(x), 0, 1)\n",
        "  blend=a0*(1-tx)**2+a1*(1-tx)*tx+a2*tx**2\n",
        "  return (1-blend)*f1x+blend*f2x"
      ],
      "metadata": {
        "id": "6pt9b585bzy-"
      },
      "execution_count": 26,
      "outputs": []
    },
    {
      "cell_type": "code",
      "source": [
        "def sample_and_normalize(f, grid, grid_size):\n",
        "    '''\n",
        "    Sample f on the grid and normalize it.\n",
        "    Assume f>0 outside and <0 inside.\n",
        "    '''\n",
        "    print(grid.shape)\n",
        "    fv = f(grid)\n",
        "    print(fv.shape)\n",
        "\n",
        "    # >0 inside\n",
        "    fv = -fv\n",
        "\n",
        "    # f is the characteristic function for {f>0}\n",
        "    fv[fv>=0.0] = 1.0\n",
        "    fv[fv<0.0] = 0.0\n",
        "\n",
        "    total_sum = np.sum(fv)\n",
        "    if total_sum > 0:\n",
        "        fv = fv / total_sum\n",
        "    else:\n",
        "        raise ValueError(\"The sum of the function values is zero; normalization is not possible.\")\n",
        "\n",
        "    # reshape to have the same shape as grid\n",
        "    fv = fv.reshape(grid_size, grid_size)\n",
        "\n",
        "    return fv"
      ],
      "metadata": {
        "id": "syyH6Nrqb1_O"
      },
      "execution_count": 27,
      "outputs": []
    },
    {
      "cell_type": "code",
      "source": [
        "grid_size = 64\n",
        "grid = gen_grid(grid_size,-2.0,2.0)\n",
        "\n",
        "# f1 and f2 are prob. distribution corresponding to f1 and f2\n",
        "f1 = sample_and_normalize(sdf_sword, grid, grid_size)\n",
        "f2 = sample_and_normalize(sdf_heart, grid, grid_size)\n",
        "\n",
        "A = np.array([f1,f2])\n",
        "\n",
        "nb_images = 5\n",
        "reg = 0.004\n",
        "\n",
        "v1 = np.array((1, 0))\n",
        "v2 = np.array((0, 1))\n",
        "\n",
        "fig, axes = plt.subplots(1, nb_images, figsize=(7, 7))\n",
        "plt.suptitle(\"Optimal Trasport\")\n",
        "cm = \"Blues\"\n",
        "\n",
        "for i in range(nb_images):\n",
        "    tx = float(i) / (nb_images - 1)\n",
        "\n",
        "    weights = (1 - tx) * v1 + tx * v2\n",
        "\n",
        "    if i == 0:\n",
        "        axes[i].imshow(f1, cmap=cm)\n",
        "    elif i == (nb_images - 1):\n",
        "        axes[i].imshow(f2, cmap=cm)\n",
        "    else:\n",
        "        # call to barycenter computation\n",
        "        axes[i].imshow(\n",
        "            ot.bregman.convolutional_barycenter2d(A, reg, weights), cmap=cm\n",
        "        )\n",
        "    axes[i].axis(\"off\")\n",
        "#Optimal Trasport\n",
        "plt.tight_layout()\n",
        "plt.show()"
      ],
      "metadata": {
        "id": "dRAkCZ-kcPU1",
        "colab": {
          "base_uri": "https://localhost:8080/",
          "height": 370
        },
        "outputId": "007db8d7-6158-4ccd-d2b8-d63b09f28584"
      },
      "execution_count": 39,
      "outputs": [
        {
          "output_type": "stream",
          "name": "stdout",
          "text": [
            "(4096, 2)\n"
          ]
        },
        {
          "output_type": "error",
          "ename": "TypeError",
          "evalue": "can't multiply sequence by non-int of type 'float'",
          "traceback": [
            "\u001b[0;31m---------------------------------------------------------------------------\u001b[0m",
            "\u001b[0;31mTypeError\u001b[0m                                 Traceback (most recent call last)",
            "\u001b[0;32m<ipython-input-39-f904ae614be4>\u001b[0m in \u001b[0;36m<cell line: 0>\u001b[0;34m()\u001b[0m\n\u001b[1;32m      3\u001b[0m \u001b[0;34m\u001b[0m\u001b[0m\n\u001b[1;32m      4\u001b[0m \u001b[0;31m# f1 and f2 are prob. distribution corresponding to f1 and f2\u001b[0m\u001b[0;34m\u001b[0m\u001b[0;34m\u001b[0m\u001b[0m\n\u001b[0;32m----> 5\u001b[0;31m \u001b[0mf1\u001b[0m \u001b[0;34m=\u001b[0m \u001b[0msample_and_normalize\u001b[0m\u001b[0;34m(\u001b[0m\u001b[0msdf_sword\u001b[0m\u001b[0;34m,\u001b[0m \u001b[0mgrid\u001b[0m\u001b[0;34m,\u001b[0m \u001b[0mgrid_size\u001b[0m\u001b[0;34m)\u001b[0m\u001b[0;34m\u001b[0m\u001b[0;34m\u001b[0m\u001b[0m\n\u001b[0m\u001b[1;32m      6\u001b[0m \u001b[0mf2\u001b[0m \u001b[0;34m=\u001b[0m \u001b[0msample_and_normalize\u001b[0m\u001b[0;34m(\u001b[0m\u001b[0msdf_heart\u001b[0m\u001b[0;34m,\u001b[0m \u001b[0mgrid\u001b[0m\u001b[0;34m,\u001b[0m \u001b[0mgrid_size\u001b[0m\u001b[0;34m)\u001b[0m\u001b[0;34m\u001b[0m\u001b[0;34m\u001b[0m\u001b[0m\n\u001b[1;32m      7\u001b[0m \u001b[0;34m\u001b[0m\u001b[0m\n",
            "\u001b[0;32m<ipython-input-27-a3635420ad93>\u001b[0m in \u001b[0;36msample_and_normalize\u001b[0;34m(f, grid, grid_size)\u001b[0m\n\u001b[1;32m      5\u001b[0m     '''\n\u001b[1;32m      6\u001b[0m     \u001b[0mprint\u001b[0m\u001b[0;34m(\u001b[0m\u001b[0mgrid\u001b[0m\u001b[0;34m.\u001b[0m\u001b[0mshape\u001b[0m\u001b[0;34m)\u001b[0m\u001b[0;34m\u001b[0m\u001b[0;34m\u001b[0m\u001b[0m\n\u001b[0;32m----> 7\u001b[0;31m     \u001b[0mfv\u001b[0m \u001b[0;34m=\u001b[0m \u001b[0mf\u001b[0m\u001b[0;34m(\u001b[0m\u001b[0mgrid\u001b[0m\u001b[0;34m)\u001b[0m\u001b[0;34m\u001b[0m\u001b[0;34m\u001b[0m\u001b[0m\n\u001b[0m\u001b[1;32m      8\u001b[0m     \u001b[0mprint\u001b[0m\u001b[0;34m(\u001b[0m\u001b[0mfv\u001b[0m\u001b[0;34m.\u001b[0m\u001b[0mshape\u001b[0m\u001b[0;34m)\u001b[0m\u001b[0;34m\u001b[0m\u001b[0;34m\u001b[0m\u001b[0m\n\u001b[1;32m      9\u001b[0m \u001b[0;34m\u001b[0m\u001b[0m\n",
            "\u001b[0;32m<ipython-input-37-89155357fb1f>\u001b[0m in \u001b[0;36msdf_sword\u001b[0;34m(p, b)\u001b[0m\n\u001b[1;32m      3\u001b[0m     \u001b[0mp\u001b[0m\u001b[0;34m=\u001b[0m\u001b[0mnp\u001b[0m\u001b[0;34m.\u001b[0m\u001b[0mabs\u001b[0m\u001b[0;34m(\u001b[0m\u001b[0mp\u001b[0m\u001b[0;34m)\u001b[0m\u001b[0;34m\u001b[0m\u001b[0;34m\u001b[0m\u001b[0m\n\u001b[1;32m      4\u001b[0m     \u001b[0mh\u001b[0m\u001b[0;34m=\u001b[0m\u001b[0mclamp\u001b[0m\u001b[0;34m(\u001b[0m\u001b[0mnp\u001b[0m\u001b[0;34m.\u001b[0m\u001b[0mdot\u001b[0m\u001b[0;34m(\u001b[0m\u001b[0mb\u001b[0m\u001b[0;34m-\u001b[0m\u001b[0;36m2.0\u001b[0m\u001b[0;34m*\u001b[0m\u001b[0mp\u001b[0m\u001b[0;34m,\u001b[0m\u001b[0mb\u001b[0m\u001b[0;34m)\u001b[0m\u001b[0;34m/\u001b[0m\u001b[0mnp\u001b[0m\u001b[0;34m.\u001b[0m\u001b[0mdot\u001b[0m\u001b[0;34m(\u001b[0m\u001b[0mb\u001b[0m\u001b[0;34m,\u001b[0m\u001b[0mb\u001b[0m\u001b[0;34m)\u001b[0m\u001b[0;34m,\u001b[0m\u001b[0;34m-\u001b[0m\u001b[0;36m1.0\u001b[0m\u001b[0;34m,\u001b[0m\u001b[0;36m1.0\u001b[0m\u001b[0;34m)\u001b[0m\u001b[0;34m\u001b[0m\u001b[0;34m\u001b[0m\u001b[0m\n\u001b[0;32m----> 5\u001b[0;31m     \u001b[0md\u001b[0m\u001b[0;34m=\u001b[0m\u001b[0mnp\u001b[0m\u001b[0;34m.\u001b[0m\u001b[0mlinalg\u001b[0m\u001b[0;34m.\u001b[0m\u001b[0mnorm\u001b[0m\u001b[0;34m(\u001b[0m\u001b[0mp\u001b[0m \u001b[0;34m-\u001b[0m \u001b[0;36m0.5\u001b[0m \u001b[0;34m*\u001b[0m \u001b[0mb\u001b[0m \u001b[0;34m*\u001b[0m \u001b[0mnp\u001b[0m\u001b[0;34m.\u001b[0m\u001b[0marray\u001b[0m\u001b[0;34m(\u001b[0m\u001b[0;34m[\u001b[0m\u001b[0;36m1.0\u001b[0m \u001b[0;34m-\u001b[0m \u001b[0mh\u001b[0m\u001b[0;34m,\u001b[0m \u001b[0;36m1.0\u001b[0m \u001b[0;34m+\u001b[0m \u001b[0mh\u001b[0m\u001b[0;34m]\u001b[0m\u001b[0;34m)\u001b[0m\u001b[0;34m)\u001b[0m\u001b[0;34m\u001b[0m\u001b[0;34m\u001b[0m\u001b[0m\n\u001b[0m\u001b[1;32m      6\u001b[0m     \u001b[0;32mreturn\u001b[0m \u001b[0md\u001b[0m\u001b[0;34m*\u001b[0m\u001b[0mnp\u001b[0m\u001b[0;34m.\u001b[0m\u001b[0msign\u001b[0m\u001b[0;34m(\u001b[0m\u001b[0mp\u001b[0m\u001b[0;34m[\u001b[0m\u001b[0;34m:\u001b[0m\u001b[0;34m,\u001b[0m\u001b[0;36m0\u001b[0m\u001b[0;34m]\u001b[0m\u001b[0;34m*\u001b[0m\u001b[0mb\u001b[0m\u001b[0;34m[\u001b[0m\u001b[0;34m:\u001b[0m\u001b[0;34m,\u001b[0m\u001b[0;36m1\u001b[0m\u001b[0;34m]\u001b[0m\u001b[0;34m+\u001b[0m\u001b[0mp\u001b[0m\u001b[0;34m[\u001b[0m\u001b[0;34m:\u001b[0m\u001b[0;34m,\u001b[0m\u001b[0;36m1\u001b[0m\u001b[0;34m]\u001b[0m\u001b[0;34m*\u001b[0m\u001b[0mb\u001b[0m\u001b[0;34m[\u001b[0m\u001b[0;34m:\u001b[0m\u001b[0;34m,\u001b[0m\u001b[0;36m0\u001b[0m\u001b[0;34m]\u001b[0m\u001b[0;34m-\u001b[0m\u001b[0mb\u001b[0m\u001b[0;34m[\u001b[0m\u001b[0;34m:\u001b[0m\u001b[0;34m,\u001b[0m\u001b[0;36m0\u001b[0m\u001b[0;34m]\u001b[0m\u001b[0;34m*\u001b[0m\u001b[0mb\u001b[0m\u001b[0;34m[\u001b[0m\u001b[0;34m:\u001b[0m\u001b[0;34m,\u001b[0m\u001b[0;36m1\u001b[0m\u001b[0;34m]\u001b[0m\u001b[0;34m)\u001b[0m\u001b[0;34m\u001b[0m\u001b[0;34m\u001b[0m\u001b[0m\n",
            "\u001b[0;31mTypeError\u001b[0m: can't multiply sequence by non-int of type 'float'"
          ]
        }
      ]
    }
  ]
}