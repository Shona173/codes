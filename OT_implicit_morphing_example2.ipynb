{
  "nbformat": 4,
  "nbformat_minor": 0,
  "metadata": {
    "colab": {
      "provenance": []
    },
    "kernelspec": {
      "name": "python3",
      "display_name": "Python 3"
    },
    "language_info": {
      "name": "python"
    }
  },
  "cells": [
    {
      "cell_type": "code",
      "execution_count": null,
      "metadata": {
        "id": "1ERWJJmGOarK"
      },
      "outputs": [],
      "source": [
        "!pip install POT"
      ]
    },
    {
      "cell_type": "code",
      "source": [
        "import numpy as np\n",
        "import numpy.random as random\n",
        "\n",
        "import matplotlib.pyplot as plt\n",
        "import ot"
      ],
      "metadata": {
        "id": "Ps_0yU8TOobT"
      },
      "execution_count": null,
      "outputs": []
    },
    {
      "cell_type": "code",
      "source": [
        "def ndot(a,b):\n",
        "    return a[0]*b[0]-a[1]*b[1]"
      ],
      "metadata": {
        "id": "Nij0YSTuOu-t"
      },
      "execution_count": null,
      "outputs": []
    },
    {
      "cell_type": "code",
      "source": [
        "def clamp(value, min_val, max_val):\n",
        "    return np.maximum(min_val, np.minimum(value, max_val))"
      ],
      "metadata": {
        "id": "wpY8_zzZOw0N"
      },
      "execution_count": null,
      "outputs": []
    },
    {
      "cell_type": "code",
      "source": [
        "def sdf_hexagram(p,r=0.5):\n",
        "    k =np.array[-0.5,0.8660254038,0.5773502692,1.7320508076]\n",
        "    p=np.abs(p)\n",
        "    p-=2.0*min(np.dot(k[:2],p),0.0)*k[:2]\n",
        "    p-=2.0*min(np.dot(k[1::-1],p),0.0)*k[1::-1]\n",
        "    p-=np.array([clamp(p[:,0],r*k[2]),r*k[3],r])\n",
        "    return np.linalg.norm(p,axis=1)*np.sign(p[:,1])"
      ],
      "metadata": {
        "id": "0ptbMhUyPN4E"
      },
      "execution_count": null,
      "outputs": []
    },
    {
      "cell_type": "code",
      "source": [
        "def sdf_rhombus(p,b):\n",
        "    p=np.abs(p)\n",
        "    h=clamp(ndot(b-2.0*p,b)/np.dot(b,b),-1.0,1.0)\n",
        "    d=np.linalg.norm(p - 0.5 * b * np.array([1.0 - h, 1.0 + h]))\n",
        "    return d*np.sign(p[0]*b[1]+p[1]*b[0]-b[0]*b[1])"
      ],
      "metadata": {
        "id": "8nNusAB8PSXt"
      },
      "execution_count": null,
      "outputs": []
    },
    {
      "cell_type": "code",
      "source": [
        "def gen_grid(resolution, low=-1.0, high=1.0):\n",
        "    idx = np.linspace(low, high, num=resolution)\n",
        "    x, y = np.meshgrid(idx, idx)\n",
        "    V = np.concatenate((x.reshape((-1,1)), y.reshape((-1,1))), 1)\n",
        "\n",
        "    return V"
      ],
      "metadata": {
        "id": "iWSG2aCjOziI"
      },
      "execution_count": null,
      "outputs": []
    },
    {
      "cell_type": "code",
      "source": [
        "def sample_and_normalize(f, grid, grid_size):\n",
        "    '''\n",
        "    Sample f on the grid and normalize it.\n",
        "    Assume f>0 outside and <0 inside.\n",
        "    '''\n",
        "    print(grid.shape)\n",
        "    fv = f(grid)\n",
        "    print(fv.shape)\n",
        "\n",
        "    # >0 inside\n",
        "    fv = -fv\n",
        "\n",
        "    # f is the characteristic function for {f>0}\n",
        "    fv[fv>=0.0] = 1.0\n",
        "    fv[fv<0.0] = 0.0\n",
        "\n",
        "    total_sum = np.sum(fv)\n",
        "    if total_sum > 0:\n",
        "        fv = fv / total_sum\n",
        "    else:\n",
        "        raise ValueError(\"The sum of the function values is zero; normalization is not possible.\")\n",
        "\n",
        "    # reshape to have the same shape as grid\n",
        "    fv = fv.reshape(grid_size, grid_size)\n",
        "\n",
        "    return fv"
      ],
      "metadata": {
        "id": "1Eh-n_okO2IR"
      },
      "execution_count": null,
      "outputs": []
    },
    {
      "cell_type": "code",
      "source": [
        "grid_size = 64\n",
        "grid = gen_grid(grid_size,-2.0,2.0)\n",
        "\n",
        "# f1 and f2 are prob. distribution corresponding to f1 and f2\n",
        "f1 = sample_and_normalize(sdf_triangle, grid, grid_size)\n",
        "f2 = sample_and_normalize(sdf_pentagon, grid, grid_size)\n",
        "\n",
        "A = np.array([f1,f2])"
      ],
      "metadata": {
        "id": "6tlcw_4WO6-I"
      },
      "execution_count": null,
      "outputs": []
    },
    {
      "cell_type": "code",
      "source": [
        "nb_images = 5\n",
        "reg = 0.004\n",
        "\n",
        "v1 = np.array((1, 0))\n",
        "v2 = np.array((0, 1))\n",
        "\n",
        "fig, axes = plt.subplots(1, nb_images, figsize=(7, 7))\n",
        "plt.suptitle(\"Convolutional Wasserstein Barycenters in POT\")\n",
        "cm = \"Blues\"\n",
        "\n",
        "for i in range(nb_images):\n",
        "    tx = float(i) / (nb_images - 1)\n",
        "\n",
        "    weights = (1 - tx) * v1 + tx * v2\n",
        "\n",
        "    if i == 0:\n",
        "        axes[i].imshow(f1, cmap=cm)\n",
        "    elif i == (nb_images - 1):\n",
        "        axes[i].imshow(f2, cmap=cm)\n",
        "    else:\n",
        "        # call to barycenter computation\n",
        "        axes[i].imshow(\n",
        "            ot.bregman.convolutional_barycenter2d(A, reg, weights), cmap=cm\n",
        "        )\n",
        "    axes[i].axis(\"off\")\n",
        "\n",
        "plt.tight_layout()\n",
        "plt.show()"
      ],
      "metadata": {
        "id": "OXkdFogePWU3"
      },
      "execution_count": null,
      "outputs": []
    }
  ]
}