{
 "cells": [
  {
   "cell_type": "code",
   "execution_count": 240,
   "id": "34754482-ca88-470d-a36e-5a27e988bc9f",
   "metadata": {},
   "outputs": [],
   "source": [
    "import os\n",
    "from pathlib import Path\n",
    "\n",
    "from PIL import Image\n",
    "import cv2\n",
    "import numpy as np\n",
    "import matplotlib.pyplot as plt\n",
    "import matplotlib.animation as animation\n",
    "import ot\n",
    "import numpy.random as random"
   ]
  },
  {
   "cell_type": "code",
   "execution_count": 241,
   "id": "557292e1-f057-4bb6-a280-fdbbc203a298",
   "metadata": {},
   "outputs": [],
   "source": [
    "def sdf_circle(x, r=0.5):\n",
    "    return np.sqrt(np.sum(x**2, axis=1)) - r"
   ]
  },
  {
   "cell_type": "code",
   "execution_count": 242,
   "id": "15564a86-6bbf-48ae-9ea9-997fd84456a0",
   "metadata": {},
   "outputs": [],
   "source": [
    "def sdf_box(x, b=[1.0,1.0]):\n",
    "    d = np.abs(x)-b\n",
    "    max_d = np.maximum(d, 0.0)\n",
    "    length_d = np.sqrt(np.sum(max_d**2, 1))\n",
    "    return length_d + np.minimum(np.maximum(d[:,0], d[:,1]), 0.0)"
   ]
  },
  {
   "cell_type": "code",
   "execution_count": 243,
   "id": "20f57ee8-0c0e-48e3-8f57-b759a86710a3",
   "metadata": {},
   "outputs": [],
   "source": [
    "def sample_grid(resolution, low=-1.0, high=1.0):\n",
    "    idx = np.linspace(low, high, num=resolution)\n",
    "    x, y = np.meshgrid(idx, idx)\n",
    "    V = np.concatenate((x.reshape((-1,1)), y.reshape((-1,1))), 1)\n",
    "\n",
    "    return V"
   ]
  },
  {
   "cell_type": "code",
   "execution_count": 244,
   "id": "3d16b17e-0aff-4712-a88c-ebb63af306a5",
   "metadata": {},
   "outputs": [],
   "source": [
    "def linear_morphing(f1, f2, t, x):\n",
    "    return (1-t)*f1(x) + t*f2(x)"
   ]
  },
  {
   "cell_type": "code",
   "execution_count": 245,
   "id": "125b3aa0-18de-42c6-9f72-7b3ab0bd315a",
   "metadata": {},
   "outputs": [
    {
     "name": "stderr",
     "output_type": "stream",
     "text": [
      "MovieWriter imagemagick unavailable; using Pillow instead.\n"
     ]
    },
    {
     "data": {
      "image/png": "[encoded data removed]",
      "text/plain": [
       "<Figure size 640x480 with 1 Axes>"
      ]
     },
     "metadata": {},
     "output_type": "display_data"
    }
   ],
   "source": [
    "grid_size = 32\n",
    "\n",
    "fig = plt.figure()\n",
    "x = sample_grid(grid_size)\n",
    "\n",
    "def animate(t):\n",
    "    plt.cla()\n",
    "    f1=sdf_circle\n",
    "    f2=sdf_box\n",
    "    out = linear_morphing(f1, f2,np.array([t]), x)\n",
    "\n",
    "    \n",
    "    #levels = np.linspace(-1.0, 1.0, 21)\n",
    "    #im = plt.contourf(out.reshape(grid_size, grid_size), levels = levels)\n",
    "    im = plt.contour(out.reshape(grid_size, grid_size), levels = [0.0])\n",
    "    plt.axis('equal')\n",
    "    plt.axis(\"off\")\n",
    "    return im\n",
    "\n",
    "\n",
    "anim = animation.FuncAnimation(fig, animate, frames=np.linspace(0, 1, 50), interval=50)\n",
    "\n",
    "anim.save(\"output.gif\", writer=\"imagemagick\")"
   ]
  },
  {
   "cell_type": "code",
   "execution_count": 246,
   "id": "bbccf4c0-1df9-418a-9ea6-ce341379efc7",
   "metadata": {},
   "outputs": [
    {
     "ename": "AssertionError",
     "evalue": "",
     "output_type": "error",
     "traceback": [
      "\u001b[0;31m---------------------------------------------------------------------------\u001b[0m",
      "\u001b[0;31mAssertionError\u001b[0m                            Traceback (most recent call last)",
      "Cell \u001b[0;32mIn[246], line 56\u001b[0m\n\u001b[1;32m     52\u001b[0m             axes[i]\u001b[38;5;241m.\u001b[39mimshow(f2, cmap\u001b[38;5;241m=\u001b[39mcm)\n\u001b[1;32m     53\u001b[0m         \u001b[38;5;28;01melse\u001b[39;00m:\n\u001b[1;32m     54\u001b[0m             \u001b[38;5;66;03m# call to barycenter computation\u001b[39;00m\n\u001b[1;32m     55\u001b[0m             axes[i]\u001b[38;5;241m.\u001b[39mimshow(\n\u001b[0;32m---> 56\u001b[0m                 \u001b[43mot\u001b[49m\u001b[38;5;241;43m.\u001b[39;49m\u001b[43mbregman\u001b[49m\u001b[38;5;241;43m.\u001b[39;49m\u001b[43mconvolutional_barycenter2d\u001b[49m\u001b[43m(\u001b[49m\u001b[43mA\u001b[49m\u001b[43m,\u001b[49m\u001b[43m \u001b[49m\u001b[43mreg\u001b[49m\u001b[43m,\u001b[49m\u001b[43m \u001b[49m\u001b[43mweights\u001b[49m\u001b[43m)\u001b[49m,\n\u001b[1;32m     57\u001b[0m                 cmap\u001b[38;5;241m=\u001b[39mcm\n\u001b[1;32m     58\u001b[0m             )\n\u001b[1;32m     59\u001b[0m         axes[i]\u001b[38;5;241m.\u001b[39maxis(\u001b[38;5;124m'\u001b[39m\u001b[38;5;124moff\u001b[39m\u001b[38;5;124m'\u001b[39m)\n\u001b[1;32m     60\u001b[0m plt\u001b[38;5;241m.\u001b[39mtight_layout()\n",
      "File \u001b[0;32m/Library/Frameworks/Python.framework/Versions/3.13/lib/python3.13/site-packages/ot/bregman/_convolutional.py:84\u001b[0m, in \u001b[0;36mconvolutional_barycenter2d\u001b[0;34m(A, reg, weights, method, numItermax, stopThr, verbose, log, warn, **kwargs)\u001b[0m\n\u001b[1;32m     20\u001b[0m \u001b[38;5;250m\u001b[39m\u001b[38;5;124mr\u001b[39m\u001b[38;5;124;03m\"\"\"Compute the entropic regularized wasserstein barycenter of distributions :math:`\\mathbf{A}`\u001b[39;00m\n\u001b[1;32m     21\u001b[0m \u001b[38;5;124;03mwhere :math:`\\mathbf{A}` is a collection of 2D images.\u001b[39;00m\n\u001b[1;32m     22\u001b[0m \n\u001b[0;32m   (...)\u001b[0m\n\u001b[1;32m     80\u001b[0m \u001b[38;5;124;03m    International Conference on Machine Learning, PMLR 119:4692-4701, 2020\u001b[39;00m\n\u001b[1;32m     81\u001b[0m \u001b[38;5;124;03m\"\"\"\u001b[39;00m\n\u001b[1;32m     83\u001b[0m \u001b[38;5;28;01mif\u001b[39;00m method\u001b[38;5;241m.\u001b[39mlower() \u001b[38;5;241m==\u001b[39m \u001b[38;5;124m'\u001b[39m\u001b[38;5;124msinkhorn\u001b[39m\u001b[38;5;124m'\u001b[39m:\n\u001b[0;32m---> 84\u001b[0m     \u001b[38;5;28;01mreturn\u001b[39;00m \u001b[43m_convolutional_barycenter2d\u001b[49m\u001b[43m(\u001b[49m\u001b[43mA\u001b[49m\u001b[43m,\u001b[49m\u001b[43m \u001b[49m\u001b[43mreg\u001b[49m\u001b[43m,\u001b[49m\u001b[43m \u001b[49m\u001b[43mweights\u001b[49m\u001b[38;5;241;43m=\u001b[39;49m\u001b[43mweights\u001b[49m\u001b[43m,\u001b[49m\n\u001b[1;32m     85\u001b[0m \u001b[43m                                       \u001b[49m\u001b[43mnumItermax\u001b[49m\u001b[38;5;241;43m=\u001b[39;49m\u001b[43mnumItermax\u001b[49m\u001b[43m,\u001b[49m\n\u001b[1;32m     86\u001b[0m \u001b[43m                                       \u001b[49m\u001b[43mstopThr\u001b[49m\u001b[38;5;241;43m=\u001b[39;49m\u001b[43mstopThr\u001b[49m\u001b[43m,\u001b[49m\u001b[43m \u001b[49m\u001b[43mverbose\u001b[49m\u001b[38;5;241;43m=\u001b[39;49m\u001b[43mverbose\u001b[49m\u001b[43m,\u001b[49m\n\u001b[1;32m     87\u001b[0m \u001b[43m                                       \u001b[49m\u001b[43mlog\u001b[49m\u001b[38;5;241;43m=\u001b[39;49m\u001b[43mlog\u001b[49m\u001b[43m,\u001b[49m\u001b[43m \u001b[49m\u001b[43mwarn\u001b[49m\u001b[38;5;241;43m=\u001b[39;49m\u001b[43mwarn\u001b[49m\u001b[43m,\u001b[49m\n\u001b[1;32m     88\u001b[0m \u001b[43m                                       \u001b[49m\u001b[38;5;241;43m*\u001b[39;49m\u001b[38;5;241;43m*\u001b[39;49m\u001b[43mkwargs\u001b[49m\u001b[43m)\u001b[49m\n\u001b[1;32m     89\u001b[0m \u001b[38;5;28;01melif\u001b[39;00m method\u001b[38;5;241m.\u001b[39mlower() \u001b[38;5;241m==\u001b[39m \u001b[38;5;124m'\u001b[39m\u001b[38;5;124msinkhorn_log\u001b[39m\u001b[38;5;124m'\u001b[39m:\n\u001b[1;32m     90\u001b[0m     \u001b[38;5;28;01mreturn\u001b[39;00m _convolutional_barycenter2d_log(A, reg, weights\u001b[38;5;241m=\u001b[39mweights,\n\u001b[1;32m     91\u001b[0m                                            numItermax\u001b[38;5;241m=\u001b[39mnumItermax,\n\u001b[1;32m     92\u001b[0m                                            stopThr\u001b[38;5;241m=\u001b[39mstopThr, verbose\u001b[38;5;241m=\u001b[39mverbose,\n\u001b[1;32m     93\u001b[0m                                            log\u001b[38;5;241m=\u001b[39mlog, warn\u001b[38;5;241m=\u001b[39mwarn,\n\u001b[1;32m     94\u001b[0m                                            \u001b[38;5;241m*\u001b[39m\u001b[38;5;241m*\u001b[39mkwargs)\n",
      "File \u001b[0;32m/Library/Frameworks/Python.framework/Versions/3.13/lib/python3.13/site-packages/ot/bregman/_convolutional.py:113\u001b[0m, in \u001b[0;36m_convolutional_barycenter2d\u001b[0;34m(A, reg, weights, numItermax, stopThr, stabThr, verbose, log, warn)\u001b[0m\n\u001b[1;32m    111\u001b[0m     weights \u001b[38;5;241m=\u001b[39m nx\u001b[38;5;241m.\u001b[39mones((A\u001b[38;5;241m.\u001b[39mshape[\u001b[38;5;241m0\u001b[39m],), type_as\u001b[38;5;241m=\u001b[39mA) \u001b[38;5;241m/\u001b[39m A\u001b[38;5;241m.\u001b[39mshape[\u001b[38;5;241m0\u001b[39m]\n\u001b[1;32m    112\u001b[0m \u001b[38;5;28;01melse\u001b[39;00m:\n\u001b[0;32m--> 113\u001b[0m     \u001b[38;5;28;01massert\u001b[39;00m (\u001b[38;5;28mlen\u001b[39m(weights) \u001b[38;5;241m==\u001b[39m A\u001b[38;5;241m.\u001b[39mshape[\u001b[38;5;241m0\u001b[39m])\n\u001b[1;32m    115\u001b[0m \u001b[38;5;28;01mif\u001b[39;00m log:\n\u001b[1;32m    116\u001b[0m     log \u001b[38;5;241m=\u001b[39m {\u001b[38;5;124m'\u001b[39m\u001b[38;5;124merr\u001b[39m\u001b[38;5;124m'\u001b[39m: []}\n",
      "\u001b[0;31mAssertionError\u001b[0m: "
     ]
    },
    {
     "data": {
      "image/png": "[encoded data removed]",
      "text/plain": [
       "<Figure size 700x700 with 5 Axes>"
      ]
     },
     "metadata": {},
     "output_type": "display_data"
    }
   ],
   "source": [
    "grid_size = 32\n",
    "\n",
    "gif = cv2.VideoCapture('output.gif') #read gif file\n",
    "\n",
    "images = [] #insert the images\n",
    "i = 0\n",
    "while True:\n",
    "    is_success, img = gif.read()\n",
    "    if not is_success:\n",
    "        break\n",
    "\n",
    "    images.append(img)\n",
    "    i += 1\n",
    "\n",
    "SDF_f=images[0] #SDF images(first shape and last shape) \n",
    "SDF_l=images[-2]\n",
    "cv2.imwrite('first.png',SDF_f)\n",
    "cv2.imwrite('last.png',SDF_l)\n",
    "\n",
    "cm = 'gray' #image color\n",
    "nb_images = 5\n",
    "\n",
    "f1 = 1 - plt.imread('first.png')[::2, ::2, 2]\n",
    "f2 = 1 - plt.imread('last.png')[::2, ::2, 2]\n",
    "\n",
    "f1 = f1 / np.sum(f1)\n",
    "f2 = f2 / np.sum(f2)\n",
    "A = np.array([f1, f2])\n",
    "\n",
    "# those are the four corners coordinates that will be interpolated by bilinear interpolation\n",
    "v1 = np.array((1, 0, 0, 0))\n",
    "v2 = np.array((0, 1, 0, 0))\n",
    "v3 = np.array((0, 0, 1, 0))\n",
    "v4 = np.array((0, 0, 0, 1))\n",
    "\n",
    "fig, axes = plt.subplots(1 ,nb_images, figsize=(7, 7)) #makes 5 images left and right division\n",
    "\n",
    "reg = 0.004\n",
    "for i in range(nb_images):\n",
    "    for j in range(nb_images):\n",
    "        tx = float(i) / (nb_images - 1)\n",
    "        ty = float(j) / (nb_images - 1)\n",
    "\n",
    "        # weights are constructed by bilinear interpolation\n",
    "        tmp1 = (1 - tx) * v1 + tx * v2\n",
    "        tmp2 = (1 - tx) * v3 + tx * v4\n",
    "        weights = (1 - ty) * tmp1 + ty * tmp2\n",
    "\n",
    "        if i == 0: \n",
    "            axes[i].imshow(f1, cmap=cm)\n",
    "        elif i == (nb_images - 1):\n",
    "            axes[i].imshow(f2, cmap=cm)\n",
    "        else:\n",
    "            # call to barycenter computation\n",
    "            axes[i].imshow(\n",
    "                ot.bregman.convolutional_barycenter2d(A, reg, weights),\n",
    "                cmap=cm\n",
    "            )\n",
    "        axes[i].axis('off')\n",
    "plt.tight_layout()\n",
    "plt.show()"
   ]
  }
 ],
 "metadata": {
  "kernelspec": {
   "display_name": "Python 3 (ipykernel)",
   "language": "python",
   "name": "python3"
  },
  "language_info": {
   "codemirror_mode": {
    "name": "ipython",
    "version": 3
   },
   "file_extension": ".py",
   "mimetype": "text/x-python",
   "name": "python",
   "nbconvert_exporter": "python",
   "pygments_lexer": "ipython3",
   "version": "3.13.0"
  }
 },
 "nbformat": 4,
 "nbformat_minor": 5
}
