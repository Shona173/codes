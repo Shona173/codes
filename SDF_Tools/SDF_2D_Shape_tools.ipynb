{
 "cells": [
  {
   "cell_type": "code",
   "execution_count": 1,
   "metadata": {
    "colab": {
     "base_uri": "https://localhost:8080/"
    },
    "id": "rRHWsP-UR-JE",
    "outputId": "80ecece5-746c-4861-d3e4-c7751d9355bc"
   },
   "outputs": [
    {
     "name": "stdout",
     "output_type": "stream",
     "text": [
      "Collecting POT\n",
      "  Downloading POT-0.9.5-cp310-cp310-manylinux_2_17_x86_64.manylinux2014_x86_64.whl.metadata (34 kB)\n",
      "Requirement already satisfied: numpy>=1.16 in /usr/local/lib/python3.10/dist-packages (from POT) (1.26.4)\n",
      "Requirement already satisfied: scipy>=1.6 in /usr/local/lib/python3.10/dist-packages (from POT) (1.13.1)\n",
      "Downloading POT-0.9.5-cp310-cp310-manylinux_2_17_x86_64.manylinux2014_x86_64.whl (865 kB)\n",
      "\u001b[?25l   \u001b[90m━━━━━━━━━━━━━━━━━━━━━━━━━━━━━━━━━━━━━━━━\u001b[0m \u001b[32m0.0/865.6 kB\u001b[0m \u001b[31m?\u001b[0m eta \u001b[36m-:--:--\u001b[0m\r",
      "\u001b[2K   \u001b[90m━━━━━━━━━━━━━━━━━━━━━━━━━━━━━━━━━━━━━━━━\u001b[0m \u001b[32m865.6/865.6 kB\u001b[0m \u001b[31m22.3 MB/s\u001b[0m eta \u001b[36m0:00:00\u001b[0m\n",
      "\u001b[?25hInstalling collected packages: POT\n",
      "Successfully installed POT-0.9.5\n"
     ]
    }
   ],
   "source": [
    "!pip install POT"
   ]
  },
  {
   "cell_type": "code",
   "execution_count": 5,
   "metadata": {
    "id": "DnQGjRDHSDWI"
   },
   "outputs": [],
   "source": [
    "import numpy as np\n",
    "import math\n",
    "import matplotlib.pyplot as plt\n",
    "import ot"
   ]
  },
  {
   "cell_type": "code",
   "execution_count": null,
   "metadata": {},
   "outputs": [],
   "source": [
    "def ndot(a,b):\n",
    "    return a[0]*b[0]-a[1]*b[1]"
   ]
  },
  {
   "cell_type": "code",
   "execution_count": 12,
   "metadata": {
    "id": "g1GegEEObhUt"
   },
   "outputs": [],
   "source": [
    "def clamp(value, min_val, max_val):\n",
    "    return max(min_val, min(value, max_val))"
   ]
  },
  {
   "cell_type": "code",
   "execution_count": 3,
   "metadata": {
    "id": "6dCp4WAKSS2g"
   },
   "outputs": [],
   "source": [
    "def sdf_circle(x, r=0.5):\n",
    "    return np.sqrt(np.sum(x**2, axis=1)) - r"
   ]
  },
  {
   "cell_type": "code",
   "execution_count": 4,
   "metadata": {
    "id": "xKB2b0YXS_9Z"
   },
   "outputs": [],
   "source": [
    "def sdf_box(x, b=[0.7,0.7]):\n",
    "    d = np.abs(x)-b\n",
    "    max_d = np.maximum(d, 0.0)\n",
    "    length_d = np.sqrt(np.sum(max_d**2, 1))\n",
    "    return length_d + np.minimum(np.maximum(d[:,0], d[:,1]), 0.0)"
   ]
  },
  {
   "cell_type": "code",
   "execution_count": 15,
   "metadata": {
    "id": "tqsRY2MSTDZs"
   },
   "outputs": [],
   "source": [
    "def sdf_triangle(p,r=0.5):\n",
    "    pi=np.sqrt(3.0)\n",
    "    p[0]=np.abs(p[0])-r\n",
    "    p[1]=p[1]+r/pi\n",
    "    if(p[0]+pi*p[1]>0.0):\n",
    "      p=(p[0]-pi*p[1],-pi*p[0]-p[1])/2.0;\n",
    "    p[0]-=clamp(p[0],-2.0*r,0.0);\n",
    "    max_p = np.maximum(p, 0.0)\n",
    "    length_p = np.sqrt(np.sum(max_p**2, 1))\n",
    "    return -np.linalg.norm(p)*np.sign(p[1])"
   ]
  },
  {
   "cell_type": "code",
   "execution_count": 17,
   "metadata": {
    "id": "5g_edJ3ycIEW"
   },
   "outputs": [],
   "source": [
    "def sdf_pentagon(p,r=0.5):\n",
    "  k=np.array[0.809016994,0.587785252,0.726542528];\n",
    "  p.x=np.abs(p[0])\n",
    "  l=(-k[0],k[1])\n",
    "  m=(k[0],k[1])\n",
    "  p-=2.0*min(np.dot(l,p),0.0)*l;\n",
    "  p-=2.0*min(np.dot(m,p),0.0)*m\n",
    "  p-=(clamp(p[0],-r*k[2],r*k[2]),r);\n",
    "  max_p = np.maximum(p, 0.0)\n",
    "  length_p = np.sqrt(np.sum(max_p**2, 1))\n",
    "  return -np.linalg.norm(p)*math.sin(p[1])"
   ]
  },
  {
   "cell_type": "code",
   "execution_count": 1,
   "metadata": {},
   "outputs": [],
   "source": [
    "def sdf_hexagram(p,r=0.5):\n",
    "    k =np.array[-0.5,0.8660254038,0.5773502692,1.7320508076]\n",
    "    p=np.abs(p)\n",
    "    p-=2.0*min(np.dot(k[:2],p),0.0)*k[:2]\n",
    "    p-=2.0*min(np.dot(k[1::-1],p),0.0)*k[1::-1]\n",
    "    p-=np.array([clamp(p[0],r*k[2]),r*k[3],r])\n",
    "    return np.linalg.norm(p)*np.sign(p[1])"
   ]
  },
  {
   "cell_type": "code",
   "execution_count": null,
   "metadata": {},
   "outputs": [],
   "source": [
    "def sdf_hexagon(p,r=0.5):\n",
    "    k=np.array[-0.866025404,0.5,0.577350269]\n",
    "    p=np.abs(p)\n",
    "    p-=2.0*min(np.dot(k[:2]),p)*k[:2]\n",
    "    p-=np.array([clamp(p[0],-r*k[2],r*k[2]),r])\n",
    "    return np.linalg.norm(p)*np.sign(p[1])"
   ]
  },
  {
   "cell_type": "code",
   "execution_count": null,
   "metadata": {},
   "outputs": [],
   "source": [
    "def sdf_rhombus(p,b):\n",
    "    p=np.abs(p)\n",
    "    h=clamp(ndot(b-2.0*p,b)/np.dot(b,b),-1.0,1.0)\n",
    "    d=np.linalg.norm(p - 0.5 * b * np.array([1.0 - h, 1.0 + h]))\n",
    "    return d*np.sign(p[0]*b[1]+p[1]*b[0]-b[0]*b[1])"
   ]
  },
  {
   "cell_type": "code",
   "execution_count": null,
   "metadata": {},
   "outputs": [],
   "source": [
    "def sdf_star(p,r=0.5,rf=0.5):\n",
    "    k1=np.array[0.809016994375, -0.587785252292]\n",
    "    k2=np.array[-k1[0],k1[1]]\n",
    "    p[0]=np.abs(p[0])\n",
    "    p-=2.0*max(np.dot(k1,p),0.0)*k1\n",
    "    p-=2.0*max(np.dot(k2,p),0.0)*k2\n",
    "    p[0]=np.abs(p[0])\n",
    "    p[1]-=r\n",
    "    ba=rf*np.array([-k1[1],k1[0]])-np.array([0,1])\n",
    "    h=clamp(np.dot(p,ba)/dot(ba,ba),0.0,r)\n",
    "    return np.linalg.norm(p-ba*h)*np.sign(p[1]*ba[0]-p[0]*ba[1])"
   ]
  },
  {
   "cell_type": "code",
   "execution_count": null,
   "metadata": {},
   "outputs": [],
   "source": [
    "def sdf_moon(p,d=0.5,ra=0.5,rb=0.5):\n",
    "    p[1]=np.abs(p[1])\n",
    "    a=(ra*ra-rb*rb+d*d)/(2.0*d)\n",
    "    b=np.sqrt(max(ra*ra-a*a,0.0))\n",
    "    if(d*(p[0]*b-p[1]*a)>d*d*max(b-p[1],0.0)):\n",
    "        return np.linalg.norm(p-np.array([a,b]))\n",
    "    return max(np.linalg.norm(p)-ra,(np.linalg.norm(p-np.array([d,0]))-rb))"
   ]
  }
 ],
 "metadata": {
  "colab": {
   "provenance": []
  },
  "kernelspec": {
   "display_name": "Python 3 (ipykernel)",
   "language": "python",
   "name": "python3"
  },
  "language_info": {
   "codemirror_mode": {
    "name": "ipython",
    "version": 3
   },
   "file_extension": ".py",
   "mimetype": "text/x-python",
   "name": "python",
   "nbconvert_exporter": "python",
   "pygments_lexer": "ipython3",
   "version": "3.13.0"
  }
 },
 "nbformat": 4,
 "nbformat_minor": 4
}
