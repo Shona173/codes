{
  "nbformat": 4,
  "nbformat_minor": 0,
  "metadata": {
    "colab": {
      "provenance": [],
      "authorship_tag": "ABX9TyPcKRAb/IKzcad56OXiU5wj",
      "include_colab_link": true
    },
    "kernelspec": {
      "name": "python3",
      "display_name": "Python 3"
    },
    "language_info": {
      "name": "python"
    }
  },
  "cells": [
    {
      "cell_type": "markdown",
      "metadata": {
        "id": "view-in-github",
        "colab_type": "text"
      },
      "source": [
        "<a href=\"https://colab.research.google.com/github/Shona173/codes/blob/main/SDF_3D_Shape_tools.ipynb\" target=\"_parent\"><img src=\"https://colab.research.google.com/assets/colab-badge.svg\" alt=\"Open In Colab\"/></a>"
      ]
    },
    {
      "cell_type": "code",
      "execution_count": null,
      "metadata": {
        "id": "Ux6cSt415iXO"
      },
      "outputs": [],
      "source": [
        "!pip install POT"
      ]
    },
    {
      "cell_type": "code",
      "source": [
        "import numpy as np\n",
        "import math\n",
        "import matplotlib.pyplot as plt\n",
        "import ot"
      ],
      "metadata": {
        "id": "HFpC272P6XTN"
      },
      "execution_count": null,
      "outputs": []
    },
    {
      "cell_type": "code",
      "source": [
        "def ndot(a,b):\n",
        "    return a[0]*b[0]-a[1]*b[1]"
      ],
      "metadata": {
        "id": "mHEd6IVv6aB9"
      },
      "execution_count": null,
      "outputs": []
    },
    {
      "cell_type": "code",
      "source": [
        "def clamp(value, min_val, max_val):\n",
        "    return max(min_val, min(value, max_val))"
      ],
      "metadata": {
        "id": "MZQqO7Fk6ba1"
      },
      "execution_count": null,
      "outputs": []
    },
    {
      "cell_type": "code",
      "source": [
        "def sdf_sphere(x, r=0.5):\n",
        "    return np.sqrt(np.sum(x**2, axis=1)) - r"
      ],
      "metadata": {
        "id": "SLu1x7h26diT"
      },
      "execution_count": null,
      "outputs": []
    },
    {
      "cell_type": "code",
      "source": [
        "def sdf_box(p, b=[0.7,0.7,0.7]):\n",
        "    q = np.abs(p) - b\n",
        "    return np.linalg.norm(np.maximum(q, 0.0)) + min(max(q[:,0], max(q[:,1], q[:,2])), 0.0)"
      ],
      "metadata": {
        "id": "RtSh-1aYUrFH"
      },
      "execution_count": null,
      "outputs": []
    },
    {
      "cell_type": "code",
      "source": [
        "def sdf_cylinder(p, c=[0.7,0.7,0.7]):\n",
        "    return np.linalg.norm(p[[:,0],[:,2]] - c[[:,0],[:,1]]) - c[:,2]"
      ],
      "metadata": {
        "id": "hU8hH9jRU0bF"
      },
      "execution_count": null,
      "outputs": []
    },
    {
      "cell_type": "code",
      "source": [
        "def sdf_tri_prism(p, h=[0.7,0.7]):\n",
        "    q = np.abs(p)\n",
        "    return max(q[:,2] - h[:,1], max(q[:,0] * 0.866025 + p[:,1] * 0.5, -p[:,1]) - h[:,0] * 0.5)"
      ],
      "metadata": {
        "id": "I8KgbvAoW-fH"
      },
      "execution_count": null,
      "outputs": []
    },
    {
      "cell_type": "code",
      "source": [
        "def sdf_capped_cone(p, h=0.5, r1=0.5, r2=0.5):\n",
        "    q = np.array([np.linalg.norm(p[:2]), p[:,2]])\n",
        "    k1 = np.array([r2, h])\n",
        "    k2 = np.array([r2 - r1, 2.0 * h])\n",
        "\n",
        "    ca = np.array([q[:,0] - min(q[:,0], r1 if q[:,1] < 0.0 else r2), abs(q[:,1]) - h])\n",
        "\n",
        "    dot_k1_q = np.dot(k1 - q, k2)\n",
        "    dot_k2 = dot2(k2)\n",
        "    cb = q - k1 + k2 * np.clip(dot_k1_q / dot_k2, 0.0, 1.0)\n",
        "\n",
        "    s = -1.0 if (cb[:,0] < 0.0 and ca[:,1] < 0.0) else 1.0\n",
        "\n",
        "    return s * np.sqrt(min(dot2(ca), dot2(cb)))"
      ],
      "metadata": {
        "id": "Semkw0aoXNuk"
      },
      "execution_count": null,
      "outputs": []
    },
    {
      "cell_type": "code",
      "source": [
        "def sdf_octahedron(p, s=0.7):\n",
        "    p = np.abs(p)\n",
        "    m = np.sum(p) - s\n",
        "\n",
        "    if 3.0 * p[:,0] < m:\n",
        "        q = p\n",
        "    elif 3.0 * p[:,1] < m:\n",
        "        q = np.array([p[:,1], p[:,2], p[:,0]])\n",
        "    elif 3.0 * p[:,2] < m:\n",
        "        q = np.array([p[:,2], p[:,0], p[:,1]])\n",
        "    else:\n",
        "        return m * 0.57735027\n",
        "\n",
        "    k = np.clip(0.5 * (q[:,2] - q[:,1] + s), 0.0, s)\n",
        "    return np.linalg.norm(np.array([q[:,0], q[:,1] - s + k, q[:,2] - k]))"
      ],
      "metadata": {
        "id": "CLrgzIpNX82Q"
      },
      "execution_count": null,
      "outputs": []
    },
    {
      "cell_type": "code",
      "source": [
        "def sdf_vesica_segment(p, a=[0.7,0.7,0.7], b=[0.7,0.7,0.7], w=0.7):\n",
        "    c = (a + b) * 0.5\n",
        "    l = np.linalg.norm(b - a)\n",
        "    v = (b - a) / l\n",
        "    y = np.dot(p - c, v)\n",
        "    q = np.array([np.linalg.norm(p - c - y * v), abs(y)])\n",
        "\n",
        "    r = 0.5 * l\n",
        "    d = 0.5 * (r * r - w * w) / w\n",
        "\n",
        "    if r * q[:,0] < d * (q[:,1] - r):\n",
        "        h = np.array([0.0, r, 0.0])\n",
        "    else:\n",
        "        h = np.array([-d, 0.0, d + w])\n",
        "\n",
        "    return np.linalg.norm(q - h[:2]) - h[:,2]\n"
      ],
      "metadata": {
        "id": "-yUNRInIZGxB"
      },
      "execution_count": null,
      "outputs": []
    }
  ]
}