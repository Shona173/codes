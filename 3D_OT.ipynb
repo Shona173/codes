{
  "nbformat": 4,
  "nbformat_minor": 0,
  "metadata": {
    "colab": {
      "provenance": [],
      "authorship_tag": "ABX9TyNxA5CZfeTA7kwKQd5+xmEj",
      "include_colab_link": true
    },
    "kernelspec": {
      "name": "python3",
      "display_name": "Python 3"
    },
    "language_info": {
      "name": "python"
    }
  },
  "cells": [
    {
      "cell_type": "markdown",
      "metadata": {
        "id": "view-in-github",
        "colab_type": "text"
      },
      "source": [
        "<a href=\"https://colab.research.google.com/github/Shona173/codes/blob/main/3D_OT.ipynb\" target=\"_parent\"><img src=\"https://colab.research.google.com/assets/colab-badge.svg\" alt=\"Open In Colab\"/></a>"
      ]
    },
    {
      "cell_type": "code",
      "execution_count": 1,
      "metadata": {
        "colab": {
          "base_uri": "https://localhost:8080/"
        },
        "id": "IHJSrbc4G9-1",
        "outputId": "25c0dbe7-8000-4bbc-81ee-d8598612952e"
      },
      "outputs": [
        {
          "output_type": "stream",
          "name": "stdout",
          "text": [
            "Collecting POT\n",
            "  Downloading POT-0.9.5-cp311-cp311-manylinux_2_17_x86_64.manylinux2014_x86_64.whl.metadata (34 kB)\n",
            "Requirement already satisfied: numpy>=1.16 in /usr/local/lib/python3.11/dist-packages (from POT) (2.0.2)\n",
            "Requirement already satisfied: scipy>=1.6 in /usr/local/lib/python3.11/dist-packages (from POT) (1.14.1)\n",
            "Downloading POT-0.9.5-cp311-cp311-manylinux_2_17_x86_64.manylinux2014_x86_64.whl (897 kB)\n",
            "\u001b[2K   \u001b[90m━━━━━━━━━━━━━━━━━━━━━━━━━━━━━━━━━━━━━━━━\u001b[0m \u001b[32m897.5/897.5 kB\u001b[0m \u001b[31m18.7 MB/s\u001b[0m eta \u001b[36m0:00:00\u001b[0m\n",
            "\u001b[?25hInstalling collected packages: POT\n",
            "Successfully installed POT-0.9.5\n",
            "Collecting trimesh\n",
            "  Downloading trimesh-4.6.8-py3-none-any.whl.metadata (18 kB)\n",
            "Requirement already satisfied: numpy>=1.20 in /usr/local/lib/python3.11/dist-packages (from trimesh) (2.0.2)\n",
            "Downloading trimesh-4.6.8-py3-none-any.whl (709 kB)\n",
            "\u001b[2K   \u001b[90m━━━━━━━━━━━━━━━━━━━━━━━━━━━━━━━━━━━━━━━━\u001b[0m \u001b[32m709.3/709.3 kB\u001b[0m \u001b[31m17.6 MB/s\u001b[0m eta \u001b[36m0:00:00\u001b[0m\n",
            "\u001b[?25hInstalling collected packages: trimesh\n",
            "Successfully installed trimesh-4.6.8\n"
          ]
        }
      ],
      "source": [
        "!pip install POT\n",
        "!pip install trimesh"
      ]
    },
    {
      "cell_type": "code",
      "source": [
        "import numpy as np\n",
        "import trimesh\n",
        "import skimage.measure\n",
        "import matplotlib.pyplot as plt\n",
        "from mpl_toolkits.mplot3d import Axes3D\n",
        "import ot\n",
        "from google.colab import files"
      ],
      "metadata": {
        "id": "GISIOzGOG_r9"
      },
      "execution_count": 3,
      "outputs": []
    },
    {
      "cell_type": "code",
      "source": [
        "def clamp(value, min_val, max_val):\n",
        "    return np.maximum(min_val, np.minimum(value, max_val))"
      ],
      "metadata": {
        "id": "bGxggrUF_ccx"
      },
      "execution_count": 6,
      "outputs": []
    },
    {
      "cell_type": "code",
      "source": [
        "def sdf_sphere(p, s=0.5):\n",
        "    p = p.copy()\n",
        "    return np.sqrt(np.sum(p**2, axis=1))-s"
      ],
      "metadata": {
        "id": "YiV-aYl7--0F"
      },
      "execution_count": 5,
      "outputs": []
    },
    {
      "cell_type": "code",
      "source": [
        "def sdf_octahedron(p, s=0.5):\n",
        "    p = np.abs(p)\n",
        "    m = np.sum(p, axis=1) - s\n",
        "    d = np.zeros(p.shape[0])\n",
        "\n",
        "    # Get index for each branch\n",
        "    idx_x = 3.0 * p[:, 0] < m\n",
        "    idx_y = (~idx_x) & (3.0 * p[:, 1] < m)\n",
        "    idx_z = (~idx_x) & (~idx_y) & (3.0 * p[:, 2] < m)\n",
        "    idx_else = ~(idx_x | idx_y | idx_z)\n",
        "\n",
        "    # Build q for each condition\n",
        "    q = np.zeros_like(p)\n",
        "    q[idx_x] = p[idx_x]\n",
        "    q[idx_y] = p[idx_y][:, [1, 2, 0]]\n",
        "    q[idx_z] = p[idx_z][:, [2, 0, 1]]\n",
        "\n",
        "    # Calculate distance for q\n",
        "    k = clamp(0.5 * (q[:, 2] - q[:, 1] + s), 0.0, s)\n",
        "    d_tmp = np.linalg.norm(np.stack([q[:, 0], q[:, 1] - s + k, q[:, 2] - k], axis=1), axis=1)\n",
        "\n",
        "    # Assign to d according to condition\n",
        "    d[idx_x | idx_y | idx_z] = d_tmp[idx_x | idx_y | idx_z]\n",
        "    d[idx_else] = m[idx_else] * 0.57735027  # 1/sqrt(3)\n",
        "\n",
        "    return d"
      ],
      "metadata": {
        "id": "ry7TsnMl--de"
      },
      "execution_count": 7,
      "outputs": []
    },
    {
      "cell_type": "code",
      "source": [
        "def r_intersection(f1,f2):\n",
        "  return f1+f2-np.sqrt(f1**2+f2**2)"
      ],
      "metadata": {
        "id": "ZQu-ien0Ak-P"
      },
      "execution_count": 10,
      "outputs": []
    },
    {
      "cell_type": "code",
      "source": [
        "def gen_grid(resolution, low=-1.0, high=1.0):\n",
        "    idx = np.linspace(low, high, num=resolution)\n",
        "    x, y, z = np.meshgrid(idx, idx,idx)\n",
        "    V = np.concatenate((x.reshape((-1,1)), y.reshape((-1,1)),z.reshape((-1,1))), 1)\n",
        "\n",
        "    return V"
      ],
      "metadata": {
        "id": "G8AXZP9q_fd0"
      },
      "execution_count": 8,
      "outputs": []
    },
    {
      "cell_type": "code",
      "source": [
        "def sample_and_normalize(f, grid, grid_size):\n",
        "    '''\n",
        "    Sample f on the grid and normalize it.\n",
        "    Assume f>0 outside and <0 inside.\n",
        "    '''\n",
        "    print(grid.shape)\n",
        "    fv = f(grid)\n",
        "    print(fv.shape)\n",
        "\n",
        "    # f is the characteristic function for {f>0}\n",
        "    fv[fv>=0.0] = 1.0\n",
        "    fv[fv<0.0] = 0.0\n",
        "\n",
        "    total_sum = np.sum(fv)\n",
        "    if total_sum > 0:\n",
        "        fv = fv / total_sum\n",
        "    else:\n",
        "        raise ValueError(\"The sum of the function values is zero; normalization is not possible.\")\n",
        "\n",
        "    # reshape to have the same shape as grid\n",
        "    fv = fv.reshape(grid_size, grid_size,grid_size)\n",
        "\n",
        "    return fv"
      ],
      "metadata": {
        "id": "58twh-a9_sfv"
      },
      "execution_count": 9,
      "outputs": []
    },
    {
      "cell_type": "code",
      "source": [
        "def export_sdf_sphere_to_obj(grid_size=64, bounds=(-2, 2), radius=1.0, output_file=\"sdf_sphere.obj\"):\n",
        "    \"\"\"\n",
        "    Generate a mesh of a sphere from its SDF and export it as a .obj file.\n",
        "    \"\"\"\n",
        "    x = np.linspace(bounds[0], bounds[1], grid_size)\n",
        "    y = np.linspace(bounds[0], bounds[1], grid_size)\n",
        "    z = np.linspace(bounds[0], bounds[1], grid_size)\n",
        "    X, Y, Z = np.meshgrid(x, y, z, indexing=\"ij\")\n",
        "    grid = np.stack([X.ravel(), Y.ravel(), Z.ravel()], axis=1)\n",
        "\n",
        "    sdf_values = sdf_sphere(grid, radius).reshape(grid_size, grid_size, grid_size)\n",
        "\n",
        "    verts, faces, normals, _ = skimage.measure.marching_cubes(sdf_values, level=0.0)\n",
        "\n",
        "    scale = (bounds[1] - bounds[0]) / (grid_size - 1)\n",
        "    verts = verts * scale + bounds[0]\n",
        "\n",
        "    mesh = trimesh.Trimesh(vertices=verts, faces=faces, vertex_normals=normals)\n",
        "    mesh.export(output_file)\n",
        "\n",
        "export_sdf_sphere_to_obj(grid_size=64, bounds=(-2.0,2.0), radius=1.0, output_file=\"sdf_sphere.obj\")"
      ],
      "metadata": {
        "id": "9sHbuUq-L2LS"
      },
      "execution_count": 11,
      "outputs": []
    },
    {
      "cell_type": "code",
      "source": [
        "def export_sdf_octahedron_to_obj(grid_size=64, bounds=(-2, 2), s=1.0, output_file=\"sdf_octahedron.obj\"):\n",
        "  x=np.linspace(bounds[0], bounds[1], grid_size)\n",
        "  y=np.linspace(bounds[0], bounds[1], grid_size)\n",
        "  z=np.linspace(bounds[0], bounds[1], grid_size)\n",
        "  X,Y,Z=np.meshgrid(x,y,z,indexing=\"ij\")\n",
        "  grid=np.stack([X.ravel(), Y.ravel(), Z.ravel()], axis=1)\n",
        "\n",
        "  sdf_values=sdf_octahedron(grid,s).reshape(grid_size, grid_size, grid_size)\n",
        "\n",
        "  verts, faces, normals, _ = skimage.measure.marching_cubes(sdf_values, level=0.0)\n",
        "\n",
        "  scale = (bounds[1] - bounds[0]) / (grid_size - 1)\n",
        "  verts = verts * scale + bounds[0]\n",
        "\n",
        "  mesh=trimesh.Trimesh(vertices=verts, faces=faces, vertex_normals=normals)\n",
        "  mesh.export(output_file)\n",
        "\n",
        "export_sdf_octahedron_to_obj(grid_size=64, bounds=(-2.0,2.0),s=1.0,output_file=\"sdf_octahedron.obj\")"
      ],
      "metadata": {
        "id": "saCCYjE-L3C0"
      },
      "execution_count": 12,
      "outputs": []
    },
    {
      "cell_type": "code",
      "source": [
        "def convolutional_barycenter3d(mu_list, alpha_list, Ht_func, a, max_iter=100, sharpen_entropy=None):\n",
        "    k = len(mu_list)\n",
        "    n = mu_list[0].size\n",
        "\n",
        "    v = [np.ones(n) for _ in range(k)]\n",
        "    w = [np.ones(n) for _ in range(k)]\n",
        "\n",
        "    for _ in range(max_iter):\n",
        "        d = []\n",
        "        for i in range(k):\n",
        "            Hv = Ht_func(a * v[i])\n",
        "            Hv[Hv == 0] = 1e-8\n",
        "            w[i] = mu_list[i] / Hv\n",
        "            d_i = v[i] * Ht_func(a * w[i])\n",
        "            d.append(d_i)\n",
        "        mu = np.ones(n)\n",
        "        for i in range(k):\n",
        "            mu *= np.power(d[i], alpha_list[i])\n",
        "        if sharpen_entropy is not None:\n",
        "            entropy = -np.sum(a * mu * np.log(np.maximum(mu, 1e-8)))\n",
        "            if entropy > sharpen_entropy:\n",
        "                beta = sharpen_entropy / entropy\n",
        "                mu = np.power(mu, beta)\n",
        "                mu /= np.sum(mu * a)\n",
        "        for i in range(k):\n",
        "            v[i] = v[i] * mu / (d[i] + 1e-8)\n",
        "\n",
        "    return mu.reshape(mu_list[0].shape)"
      ],
      "metadata": {
        "id": "yLpafbZKN6tB"
      },
      "execution_count": 13,
      "outputs": []
    },
    {
      "cell_type": "code",
      "source": [
        "def visualize_OT(f1,f2,t,grid_size=64,bounds=(-2, 2),output_file=\"blended_mesh.obj\"):\n",
        "    x=np.linspace(bounds[0], bounds[1], grid_size)\n",
        "    y=np.linspace(bounds[0], bounds[1], grid_size)\n",
        "    z=np.linspace(bounds[0], bounds[1], grid_size)\n",
        "    X,Y,Z=np.meshgrid(x, y, z,indexing=\"ij\")\n",
        "    grid=np.stack([X.ravel(), Y.ravel(), Z.ravel()], axis=1)\n"
      ],
      "metadata": {
        "id": "6qYd-pseMXRD"
      },
      "execution_count": null,
      "outputs": []
    },
    {
      "cell_type": "code",
      "source": [
        "grid_size=64\n",
        "grid=gen_grid(gen_grid)\n",
        "\n",
        "f1 = sample_and_normalize(sdf_sphere, grid, grid_size)\n",
        "f2 = sample_and_normalize(sdf_octahedron, grid, grid_size)\n",
        "\n"
      ],
      "metadata": {
        "id": "9WRYMkhHB_nE"
      },
      "execution_count": null,
      "outputs": []
    }
  ]
}