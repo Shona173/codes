{
  "nbformat": 4,
  "nbformat_minor": 0,
  "metadata": {
    "colab": {
      "provenance": [],
      "authorship_tag": "ABX9TyPPbIThlVI5ymlrGXHTz0Vq",
      "include_colab_link": true
    },
    "kernelspec": {
      "name": "python3",
      "display_name": "Python 3"
    },
    "language_info": {
      "name": "python"
    }
  },
  "cells": [
    {
      "cell_type": "markdown",
      "metadata": {
        "id": "view-in-github",
        "colab_type": "text"
      },
      "source": [
        "<a href=\"https://colab.research.google.com/github/Shona173/codes/blob/main/New_algorithm_with_heterogeneous_object.ipynb\" target=\"_parent\"><img src=\"https://colab.research.google.com/assets/colab-badge.svg\" alt=\"Open In Colab\"/></a>"
      ]
    },
    {
      "cell_type": "code",
      "execution_count": 10,
      "metadata": {
        "colab": {
          "base_uri": "https://localhost:8080/"
        },
        "id": "IlImDHmoSSSR",
        "outputId": "6d3aa02f-c574-4ba0-a5dd-54de92a59c55"
      },
      "outputs": [
        {
          "output_type": "stream",
          "name": "stdout",
          "text": [
            "Requirement already satisfied: POT in /usr/local/lib/python3.11/dist-packages (0.9.5)\n",
            "Requirement already satisfied: numpy>=1.16 in /usr/local/lib/python3.11/dist-packages (from POT) (2.0.2)\n",
            "Requirement already satisfied: scipy>=1.6 in /usr/local/lib/python3.11/dist-packages (from POT) (1.15.3)\n",
            "Requirement already satisfied: trimesh in /usr/local/lib/python3.11/dist-packages (4.6.12)\n",
            "Requirement already satisfied: numpy>=1.20 in /usr/local/lib/python3.11/dist-packages (from trimesh) (2.0.2)\n",
            "Requirement already satisfied: pyrender in /usr/local/lib/python3.11/dist-packages (0.1.45)\n",
            "Requirement already satisfied: freetype-py in /usr/local/lib/python3.11/dist-packages (from pyrender) (2.5.1)\n",
            "Requirement already satisfied: imageio in /usr/local/lib/python3.11/dist-packages (from pyrender) (2.37.0)\n",
            "Requirement already satisfied: networkx in /usr/local/lib/python3.11/dist-packages (from pyrender) (3.5)\n",
            "Requirement already satisfied: numpy in /usr/local/lib/python3.11/dist-packages (from pyrender) (2.0.2)\n",
            "Requirement already satisfied: Pillow in /usr/local/lib/python3.11/dist-packages (from pyrender) (11.2.1)\n",
            "Requirement already satisfied: pyglet>=1.4.10 in /usr/local/lib/python3.11/dist-packages (from pyrender) (2.1.6)\n",
            "Requirement already satisfied: PyOpenGL==3.1.0 in /usr/local/lib/python3.11/dist-packages (from pyrender) (3.1.0)\n",
            "Requirement already satisfied: scipy in /usr/local/lib/python3.11/dist-packages (from pyrender) (1.15.3)\n",
            "Requirement already satisfied: six in /usr/local/lib/python3.11/dist-packages (from pyrender) (1.17.0)\n",
            "Requirement already satisfied: trimesh in /usr/local/lib/python3.11/dist-packages (from pyrender) (4.6.12)\n",
            "Requirement already satisfied: ffmpeg-python in /usr/local/lib/python3.11/dist-packages (0.2.0)\n",
            "Requirement already satisfied: future in /usr/local/lib/python3.11/dist-packages (from ffmpeg-python) (1.0.0)\n",
            "Requirement already satisfied: numpy in /usr/local/lib/python3.11/dist-packages (2.0.2)\n",
            "Requirement already satisfied: trimesh in /usr/local/lib/python3.11/dist-packages (4.6.12)\n",
            "Requirement already satisfied: scikit-image in /usr/local/lib/python3.11/dist-packages (0.25.2)\n",
            "Requirement already satisfied: plyfile in /usr/local/lib/python3.11/dist-packages (1.1.2)\n",
            "Requirement already satisfied: scipy>=1.11.4 in /usr/local/lib/python3.11/dist-packages (from scikit-image) (1.15.3)\n",
            "Requirement already satisfied: networkx>=3.0 in /usr/local/lib/python3.11/dist-packages (from scikit-image) (3.5)\n",
            "Requirement already satisfied: pillow>=10.1 in /usr/local/lib/python3.11/dist-packages (from scikit-image) (11.2.1)\n",
            "Requirement already satisfied: imageio!=2.35.0,>=2.33 in /usr/local/lib/python3.11/dist-packages (from scikit-image) (2.37.0)\n",
            "Requirement already satisfied: tifffile>=2022.8.12 in /usr/local/lib/python3.11/dist-packages (from scikit-image) (2025.6.1)\n",
            "Requirement already satisfied: packaging>=21 in /usr/local/lib/python3.11/dist-packages (from scikit-image) (24.2)\n",
            "Requirement already satisfied: lazy-loader>=0.4 in /usr/local/lib/python3.11/dist-packages (from scikit-image) (0.4)\n"
          ]
        }
      ],
      "source": [
        "!pip install POT\n",
        "!pip install trimesh\n",
        "!pip install pyrender\n",
        "!pip install ffmpeg-python\n",
        "!pip install numpy trimesh scikit-image plyfile"
      ]
    },
    {
      "cell_type": "code",
      "source": [
        "import numpy as np\n",
        "import numpy.random as random\n",
        "\n",
        "import matplotlib.pyplot as plt\n",
        "import skimage.measure\n",
        "import trimesh\n",
        "from plyfile import PlyData, PlyElement\n",
        "import ffmpeg\n",
        "import pyrender\n",
        "import matplotlib.animation as animation\n",
        "from google.colab import files\n",
        "from matplotlib import animation\n",
        "from scipy.ndimage import gaussian_filter\n",
        "from IPython.display import HTML\n",
        "import ot\n",
        "import os\n",
        "import time"
      ],
      "metadata": {
        "id": "U8q0pwrbSwVn"
      },
      "execution_count": 73,
      "outputs": []
    },
    {
      "cell_type": "code",
      "source": [
        "!apt-get update -qq && apt-get install -y ffmpeg"
      ],
      "metadata": {
        "colab": {
          "base_uri": "https://localhost:8080/"
        },
        "id": "A3_QGM-Vu9Fw",
        "outputId": "29a91943-a9f2-4be6-fea0-48e07979491d"
      },
      "execution_count": 70,
      "outputs": [
        {
          "output_type": "stream",
          "name": "stdout",
          "text": [
            "W: Skipping acquire of configured file 'main/source/Sources' as repository 'https://r2u.stat.illinois.edu/ubuntu jammy InRelease' does not seem to provide it (sources.list entry misspelt?)\n",
            "Reading package lists... Done\n",
            "Building dependency tree... Done\n",
            "Reading state information... Done\n",
            "ffmpeg is already the newest version (7:4.4.2-0ubuntu0.22.04.1).\n",
            "0 upgraded, 0 newly installed, 0 to remove and 35 not upgraded.\n"
          ]
        }
      ]
    },
    {
      "cell_type": "code",
      "source": [
        "def render_ply_sequence(ply_filenames, image_prefix=\"frame\", save_images=True):\n",
        "    scene = pyrender.Scene()\n",
        "    viewer = pyrender.OffscreenRenderer(512, 512)\n",
        "    for i, ply in enumerate(ply_filenames):\n",
        "        mesh = trimesh.load(ply)\n",
        "        scene.clear()\n",
        "        scene.add(pyrender.Mesh.from_trimesh(mesh, smooth=False))\n",
        "        color, _ = viewer.render(scene)\n",
        "        if save_images:\n",
        "            plt.imsave(f\"{image_prefix}_{i:02d}.png\", color)\n",
        "    viewer.delete()\n",
        "    for i, ply in enumerate(ply_filenames):\n",
        "        mesh = trimesh.load(ply)\n",
        "        scene.clear()\n",
        "        scene.add(pyrender.Mesh.from_trimesh(mesh, smooth=False))\n",
        "def render_ply_sequence(ply_filenames, image_prefix=\"frame\", save_images=True):\n",
        "    scene = pyrender.Scene()\n",
        "    viewer = pyrender.OffscreenRenderer(512, 512)\n",
        "    for i, ply in enumerate(ply_filenames):\n",
        "        mesh = trimesh.load(ply)\n",
        "        scene.clear()\n",
        "        scene.add(pyrender.Mesh.from_trimesh(mesh, smooth=False))\n",
        "        color, _ = viewer.render(scene)\n",
        "        if save_images:\n",
        "            plt.imsave(f\"{image_prefix}_{i:02d}.png\", color)\n",
        "    viewer.delete()\n",
        "    for i, ply in enumerate(ply_filenames):\n",
        "        mesh = trimesh.load(ply)\n",
        "        scene.clear()\n",
        "        scene.add(pyrender.Mesh.from_trimesh(mesh, smooth=False))\n",
        "        color, _ = viewer.render(scene)\n",
        "        if save_images:\n",
        "            plt.imsave(f\"{image_prefix}_{i:02d}.png\", color)\n",
        "    viewer.delete()"
      ],
      "metadata": {
        "id": "76lbpiz9rsS6"
      },
      "execution_count": 50,
      "outputs": []
    },
    {
      "cell_type": "code",
      "source": [
        "def clamp(value, min_val, max_val):\n",
        "    return np.maximum(min_val, np.minimum(value, max_val))"
      ],
      "metadata": {
        "id": "i36AjJXwT2mZ"
      },
      "execution_count": 12,
      "outputs": []
    },
    {
      "cell_type": "code",
      "source": [
        "def sdf_to_distribution(f_sdf, grid, grid_size):\n",
        "    vals = f_sdf(grid)\n",
        "    mask = (vals < 0).astype(np.float32)\n",
        "    normed = mask / np.sum(mask)\n",
        "    return normed.reshape((grid_size, grid_size, grid_size))"
      ],
      "metadata": {
        "id": "O4_3swlLT636"
      },
      "execution_count": 13,
      "outputs": []
    },
    {
      "cell_type": "code",
      "source": [
        "def sdf_sphere(p, s=0.5):\n",
        "    p = p.copy()\n",
        "    return np.sqrt(np.sum(p**2, axis=1))-s"
      ],
      "metadata": {
        "id": "NMgI9ki7T8_-"
      },
      "execution_count": 14,
      "outputs": []
    },
    {
      "cell_type": "code",
      "source": [
        "def sdf_box(p, b=[0.5,0.5,0.5]):\n",
        "    p2 = p.copy()\n",
        "    q = np.abs(p2) - b\n",
        "    q2 = np.maximum(q, 0.0)\n",
        "    q2 = np.linalg.norm(q2, axis=1, ord=2)\n",
        "    q3 = np.minimum(np.maximum(q[:,0], np.maximum(q[:,1], q[:,2])), 0.0)\n",
        "    return q2 + q3"
      ],
      "metadata": {
        "id": "173rx02oUApK"
      },
      "execution_count": 15,
      "outputs": []
    },
    {
      "cell_type": "code",
      "source": [
        "def sdf_octahedron(p, s=1.0):\n",
        "    p = np.abs(p)\n",
        "    m = np.sum(p, axis=1) - s\n",
        "    d = np.zeros(p.shape[0])\n",
        "\n",
        "    # Get index for each branch\n",
        "    idx_x = 3.0 * p[:, 0] < m\n",
        "    idx_y = (~idx_x) & (3.0 * p[:, 1] < m)\n",
        "    idx_z = (~idx_x) & (~idx_y) & (3.0 * p[:, 2] < m)\n",
        "    idx_else = ~(idx_x | idx_y | idx_z)\n",
        "\n",
        "    # Build q for each condition\n",
        "    q = np.zeros_like(p)\n",
        "    q[idx_x] = p[idx_x]\n",
        "    q[idx_y] = p[idx_y][:, [1, 2, 0]]\n",
        "    q[idx_z] = p[idx_z][:, [2, 0, 1]]\n",
        "\n",
        "    # Calculate distance for q\n",
        "    k = clamp(0.5 * (q[:, 2] - q[:, 1] + s), 0.0, s)\n",
        "    d_tmp = np.linalg.norm(np.stack([q[:, 0], q[:, 1] - s + k, q[:, 2] - k], axis=1), axis=1)\n",
        "\n",
        "    # Assign to d according to condition\n",
        "    d[idx_x | idx_y | idx_z] = d_tmp[idx_x | idx_y | idx_z]\n",
        "    d[idx_else] = m[idx_else] * 0.57735027  # 1/sqrt(3)\n",
        "\n",
        "    return d"
      ],
      "metadata": {
        "id": "jPKfY0FoUDLX"
      },
      "execution_count": 16,
      "outputs": []
    },
    {
      "cell_type": "code",
      "source": [
        "def color_points_inside_sdf(f_sdf, grid, base_color=np.array([1.0, 0.0, 0.0])):\n",
        "    sdf_values = f_sdf(grid)\n",
        "    inside_mask = sdf_values < 0\n",
        "    colors = np.zeros((len(grid), 3))\n",
        "    colors[inside_mask] = base_color\n",
        "    return colors"
      ],
      "metadata": {
        "id": "UPbmoWd36y_z"
      },
      "execution_count": 17,
      "outputs": []
    },
    {
      "cell_type": "code",
      "source": [
        "def r_union(f1, f2):\n",
        "    return f1 + f2 + np.sqrt(f1**2 + f2**2)"
      ],
      "metadata": {
        "id": "9YSkBC9eUF05"
      },
      "execution_count": 18,
      "outputs": []
    },
    {
      "cell_type": "code",
      "source": [
        "def r_intersection(f1,f2):\n",
        "  return f1+f2-np.sqrt(f1**2+f2**2)"
      ],
      "metadata": {
        "id": "zurS1EakUJbP"
      },
      "execution_count": 19,
      "outputs": []
    },
    {
      "cell_type": "code",
      "source": [
        "def inverse_distance_weighting(x, points, values, power=2, eps=1e-6):\n",
        "    dists = np.linalg.norm(points - x, axis=1) + eps\n",
        "    weights = 1.0 / (dists ** power)\n",
        "    return np.sum(weights * values) / np.sum(weights)"
      ],
      "metadata": {
        "id": "CBik0ew9XSZF"
      },
      "execution_count": 20,
      "outputs": []
    },
    {
      "cell_type": "code",
      "source": [
        "def gen_grid(resolution, low=-1.0, high=1.0):\n",
        "    idx = np.linspace(low, high, num=resolution)\n",
        "    x, y, z = np.meshgrid(idx, idx,idx)\n",
        "    V = np.concatenate((x.reshape((-1,1)), y.reshape((-1,1)),z.reshape((-1,1))), 1)\n",
        "\n",
        "    return V"
      ],
      "metadata": {
        "id": "1woINzVQE7A_"
      },
      "execution_count": 21,
      "outputs": []
    },
    {
      "cell_type": "code",
      "source": [
        "def export_volume_to_obj(volume,level, bounds, output_file):\n",
        "    min_val = np.min(volume)\n",
        "    max_val = np.max(volume)\n",
        "\n",
        "    if max_val-min_val < 1e-6:\n",
        "        print(\"Volume fluctuations are too small\")\n",
        "        return\n",
        "\n",
        "    level = min_val + 0.5 * (max_val - min_val)\n",
        "\n",
        "    try:\n",
        "      verts, faces, normals, _ = skimage.measure.marching_cubes(volume, level=level)\n",
        "    except RuntimeError as e:\n",
        "        print(\"marching_cubes failed: {e}\")\n",
        "        return\n",
        "\n",
        "    scale = (bounds[1] - bounds[0]) / (volume.shape[0] - 1)\n",
        "    verts = verts * scale + bounds[0]\n",
        "\n",
        "    mesh = trimesh.Trimesh(vertices=verts, faces=faces, vertex_normals=normals)\n",
        "    mesh.export(output_file)"
      ],
      "metadata": {
        "id": "ETd2RUiBUfrR"
      },
      "execution_count": 22,
      "outputs": []
    },
    {
      "cell_type": "code",
      "source": [
        "def conv_ot_barycenter(mu_list, alpha, K, niter=100, eps=1e-8):\n",
        "\n",
        "    mu_list = [mu / np.sum(mu) for mu in mu_list]\n",
        "    alpha = np.array(alpha, dtype=np.float32)\n",
        "    alpha = alpha / np.sum(alpha)\n",
        "\n",
        "    shape = mu_list[0].shape\n",
        "    v_list = [np.ones(shape, dtype=np.float32) for _ in mu_list]\n",
        "    bary = np.ones(shape, dtype=np.float32)\n",
        "\n",
        "    for _ in range(niter):\n",
        "        w_list = []\n",
        "        d_list = []\n",
        "\n",
        "        for i in range(len(mu_list)):\n",
        "            KT_v = K(v_list[i])\n",
        "            w = mu_list[i] / (KT_v + eps)\n",
        "            d = v_list[i] * K(w)\n",
        "            d = np.maximum(d, eps)\n",
        "            w_list.append(w)\n",
        "            d_list.append(d)\n",
        "\n",
        "        log_d = np.stack([alpha[i] * np.log(d_list[i]) for i in range(len(alpha))], axis=0)\n",
        "        bary = np.exp(np.sum(log_d, axis=0))\n",
        "\n",
        "        for i in range(len(mu_list)):\n",
        "            v_list[i] = v_list[i] * bary / (d_list[i] + eps)\n",
        "\n",
        "    return bary"
      ],
      "metadata": {
        "id": "WUdiPpjfspTA"
      },
      "execution_count": 23,
      "outputs": []
    },
    {
      "cell_type": "code",
      "source": [
        "def color_mix(color1, color2, t):\n",
        "    return (1 - t) * np.array(color1) + t * np.array(color2)"
      ],
      "metadata": {
        "id": "TKoviZKi0jSo"
      },
      "execution_count": 24,
      "outputs": []
    },
    {
      "cell_type": "code",
      "source": [
        "def spatial_dependent_color(grid, sdf_func, base_color):\n",
        "    sdf_vals = sdf_func(grid)\n",
        "    sdf_vals = np.clip(sdf_vals, -1.0, 1.0)\n",
        "    weights = 0.5 * (1.0 - sdf_vals)  # -1 -> 1, +1 -> 0\n",
        "    colors = np.outer(weights, base_color)\n",
        "    return colors\n"
      ],
      "metadata": {
        "id": "TUl8fon9owpV"
      },
      "execution_count": 37,
      "outputs": []
    },
    {
      "cell_type": "code",
      "source": [
        "def export_colored_morph_sdf(sdf1, sdf2, resolution=64, bounds=(-1.5, 1.5), ts=[0.0, 0.25, 0.5, 0.75, 1.0],\n",
        "    color_start=[255, 0, 0], color_end=[0, 0, 255], output_prefix='morph'):\n",
        "\n",
        "    for t in ts:\n",
        "        alpha_list = [1 - t, t]\n",
        "        sigma = 1.0\n",
        "\n",
        "        x = np.linspace(bounds[0], bounds[1], resolution)\n",
        "        X, Y, Z = np.meshgrid(x, x, x, indexing=\"ij\")\n",
        "        grid = np.stack([X.ravel(), Y.ravel(), Z.ravel()], axis=1)\n",
        "\n",
        "        mu1 = sdf_to_distribution(lambda p: -sdf1(p), grid, resolution)\n",
        "        mu2 = sdf_to_distribution(lambda p: -sdf2(p), grid, resolution)\n",
        "\n",
        "        mu_bary = conv_ot_barycenter([mu1, mu2], alpha_list, lambda f: gaussian_filter(f, sigma=sigma), niter=100)\n",
        "        min_mu = np.min(mu_bary)\n",
        "        max_mu = np.max(mu_bary)\n",
        "        level = min_mu + 0.5 * (max_mu - min_mu)\n",
        "        verts, faces, normals, values = skimage.measure.marching_cubes(mu_bary, level)\n",
        "\n",
        "        scale = (bounds[1] - bounds[0]) / (resolution - 1)\n",
        "        verts = verts * scale + bounds[0]\n",
        "\n",
        "\n",
        "        colors1 = spatial_dependent_color(grid, sdf1, np.array(color_start) / 255.0)\n",
        "        colors2 = spatial_dependent_color(grid, sdf2, np.array(color_end) / 255.0)\n",
        "        interpolated_colors = (1 - t) * colors1 + t * colors2\n",
        "\n",
        "        grid_indices = np.clip((verts - bounds[0]) / scale, 0, resolution - 1).astype(int)\n",
        "        flat_indices = (grid_indices[:, 0] * resolution * resolution +\n",
        "                        grid_indices[:, 1] * resolution +\n",
        "                        grid_indices[:, 2])\n",
        "        vertex_colors = (interpolated_colors[flat_indices] * 255).astype(np.uint8)\n",
        "\n",
        "        mesh = trimesh.Trimesh(vertices=verts, faces=faces, vertex_normals=normals, vertex_colors=vertex_colors)\n",
        "        filename = f\"{output_prefix}_{t:.2f}.ply\"\n",
        "        mesh.export(filename)\n",
        "        print(f\"Exported t={t:.2f} shape to: {filename}\")"
      ],
      "metadata": {
        "id": "YALrseg-hJN9"
      },
      "execution_count": 57,
      "outputs": []
    },
    {
      "cell_type": "code",
      "source": [
        "export_colored_morph_sdf(\n",
        "    sdf1=sdf_sphere,\n",
        "    sdf2=sdf_octahedron,\n",
        "    resolution=64,\n",
        "    bounds=(-1.5, 1.5),\n",
        "    ts=[0.0, 0.25, 0.5, 0.75, 1.0],\n",
        "    color_start=[255, 85, 70],\n",
        "    color_end=[34, 20, 255],\n",
        "    output_prefix=\"morph_obj\"\n",
        ")"
      ],
      "metadata": {
        "colab": {
          "base_uri": "https://localhost:8080/"
        },
        "id": "Nk1X306YugnO",
        "outputId": "abbbd19e-7ae0-42f9-9524-fafcd23d1390"
      },
      "execution_count": 59,
      "outputs": [
        {
          "output_type": "stream",
          "name": "stdout",
          "text": [
            "Exported t=0.00 shape to: morph_obj_0.00.ply\n",
            "Exported t=0.25 shape to: morph_obj_0.25.ply\n",
            "Exported t=0.50 shape to: morph_obj_0.50.ply\n",
            "Exported t=0.75 shape to: morph_obj_0.75.ply\n",
            "Exported t=1.00 shape to: morph_obj_1.00.ply\n"
          ]
        }
      ]
    }
  ]
}